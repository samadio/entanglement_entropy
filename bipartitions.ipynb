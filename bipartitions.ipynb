{
 "cells": [
  {
   "cell_type": "code",
   "execution_count": 1,
   "metadata": {},
   "outputs": [
    {
     "name": "stdout",
     "output_type": "stream",
     "text": [
      "Populating the interactive namespace from numpy and matplotlib\n"
     ]
    }
   ],
   "source": [
    "%pylab inline\n",
    "from math import gcd as GCD\n",
    "from scipy.sparse.coo import coo_matrix as sparsemat\n",
    "from scipy.sparse.linalg import svds as sparsesvd\n",
    "from itertools import combinations\n",
    "import time"
   ]
  },
  {
   "cell_type": "code",
   "execution_count": 2,
   "metadata": {},
   "outputs": [],
   "source": [
    "def decimal_to_state(m,nqubit):\n",
    "    '''\n",
    "        Return binary representation of m as array of nqubit qubits\n",
    "\n",
    "            Parameters\n",
    "            ----------                \n",
    "            m:   Integer\n",
    "                number to be representend in binary form\n",
    "                \n",
    "            nqubit: Integer\n",
    "                Total number of qubits used for representation\n",
    "                    \n",
    "    '''\n",
    "    \n",
    "    arr=binary_repr(m)\n",
    "    arr=[int(i) for i in arr]\n",
    "    if(len(arr)>nqubit):\n",
    "        raise ValueError(str(nqubit)+\" are not enough qubits to store the number \"+str(m))\n",
    "    if(len(arr)==nqubit): return arr\n",
    "    return list(np.zeros(nqubit-len(arr),dtype=int16))+ arr\n",
    "\n",
    "\n",
    "def to_decimal(array):\n",
    "    '''\n",
    "        Return decimal representation of the array storing a number in binary form\n",
    "\n",
    "        Example: input [1,0,1,0,1] returns 21 \n",
    "            Parameters\n",
    "            ----------                \n",
    "            array: List\n",
    "                array containing binary representation of a number\n",
    "                \n",
    "                    \n",
    "    '''\n",
    "\n",
    "    size=len(array)\n",
    "    return int(np.sum([array[i] *2**(size-i-1)  for i in range(size)]))\n",
    "\n",
    "def find_coprime(N):     \n",
    "    \"\"\"\n",
    "            Find a coprime of N for N>2\n",
    "            Parameters\n",
    "            ----------\n",
    "            N:  Integer\n",
    "                Number to find the coprime of\n",
    "\n",
    "    \"\"\"\n",
    "    if(N<3):\n",
    "        raise ValueError(\"Illegal argument: coprimes exist for N>2\")\n",
    "    Y=randint(2,N)\n",
    "    used=[]\n",
    "    while 1:\n",
    "        a=GCD(Y,N)\n",
    "        if (a>1):\n",
    "            #this Y is not coprime\n",
    "            used.append(Y)\n",
    "            while(Y in used):\n",
    "                Y=randint(2,N)\n",
    "        else: return Y"
   ]
  },
  {
   "cell_type": "code",
   "execution_count": 6,
   "metadata": {},
   "outputs": [],
   "source": [
    "def notchosen(chosen,system_size):\n",
    "    \"\"\"\n",
    "            Return array containing the qubit NOT in the partition\n",
    "            \n",
    "            Parameters\n",
    "            ----------                \n",
    "            chosen:   List\n",
    "                List of the qubits selected as partition, in the form [1,3,7,..]\n",
    "                \n",
    "            system_size: Integer\n",
    "                Total number of qubits\n",
    "                    \n",
    "    \"\"\"\n",
    "    \n",
    "    notchosen=list(set(list(range(system_size)))-set(chosen))\n",
    "    notchosen.sort()\n",
    "    return notchosen\n",
    "\n",
    "def create_W(k,Y,N,chosen):\n",
    "    '''\n",
    "    creates W directly\n",
    "    \n",
    "    '''\n",
    "    \n",
    "    L=int(ceil(log2(N)))\n",
    "    if(k>2*L):\n",
    "        raise ValueError(str(k)+\"th computational step does not make sense in a \"+str(2*L)+\" qubits control register\")\n",
    "    \n",
    "    #nonzero elements of psi in binary form\n",
    "    nonzeros=[decimal_to_state(m*2**L+(Y**m%N),k+L) for m in range(2**k)]\n",
    "    not_chosen=notchosen(chosen,k+L)  \n",
    "\n",
    "    indexes=[ (to_decimal(split_components(i,chosen)),to_decimal((split_components(i,not_chosen)))) for i in nonzeros]\n",
    "    row=[elem[0] for elem in indexes]\n",
    "    col=[elem[1] for elem in indexes]\n",
    "    data=np.ones(2**k)/sqrt(2**k)\n",
    "    \n",
    "    return sparsemat((data,(row,col)), shape=(2**len(chosen),2**len(not_chosen))    ).tocsc()\n",
    "\n",
    "def split_components(array,chosen):\n",
    "    '''\n",
    "    Given an input array and selected components returns two arrays.\n",
    "    The first array contains only the chosen components and the other the remainders\n",
    "    '''\n",
    "    if( max(chosen) not in range(len(array)))  :\n",
    "        raise ValueError('the chosen '+str(max(chosen))+' bit is not present in a '+str(len(array))+' bits register')\n",
    "    return [array[i] for i in chosen]\n",
    "\n",
    "\n",
    "def entanglement_entropy(k,Y,N,chosen):\n",
    "    global W_time\n",
    "    t0=time.clock()\n",
    "    W=create_W(k,Y,N,chosen)\n",
    "    W_time.append(time.clock()-t0)\n",
    "    \n",
    "    global svd_time\n",
    "    t0=time.clock()\n",
    "    eigs=sparsesvd(W,k=min(shape(W))-1,which='LM',return_singular_vectors=False)\n",
    "    eigs=eigs*eigs\n",
    "    entr=-np.sum([i*np.log2(i) for i in eigs if i>0])\n",
    "    \n",
    "    svd_time.append(time.clock()-t0)\n",
    "    return entr"
   ]
  },
  {
   "cell_type": "code",
   "execution_count": 7,
   "metadata": {},
   "outputs": [],
   "source": [
    "N=10\n",
    "L=int(ceil(log2(N)))\n",
    "#Y=find_coprime(N)\n",
    "#print(Y)\n",
    "Y=7 #N,Y=(3,2),(6,5),(10,7),(11,8),(21,17), (64,57)"
   ]
  },
  {
   "cell_type": "code",
   "execution_count": 8,
   "metadata": {},
   "outputs": [
    {
     "name": "stderr",
     "output_type": "stream",
     "text": [
      "/home/simone/anaconda3/lib/python3.7/site-packages/ipykernel_launcher.py:52: DeprecationWarning: time.clock has been deprecated in Python 3.3 and will be removed from Python 3.8: use time.perf_counter or time.process_time instead\n",
      "/home/simone/anaconda3/lib/python3.7/site-packages/ipykernel_launcher.py:54: DeprecationWarning: time.clock has been deprecated in Python 3.3 and will be removed from Python 3.8: use time.perf_counter or time.process_time instead\n",
      "/home/simone/anaconda3/lib/python3.7/site-packages/ipykernel_launcher.py:57: DeprecationWarning: time.clock has been deprecated in Python 3.3 and will be removed from Python 3.8: use time.perf_counter or time.process_time instead\n",
      "/home/simone/anaconda3/lib/python3.7/site-packages/ipykernel_launcher.py:62: DeprecationWarning: time.clock has been deprecated in Python 3.3 and will be removed from Python 3.8: use time.perf_counter or time.process_time instead\n"
     ]
    },
    {
     "name": "stdout",
     "output_type": "stream",
     "text": [
      "CPU times: user 3min 16s, sys: 5.79 s, total: 3min 22s\n",
      "Wall time: 1min 58s\n"
     ]
    }
   ],
   "source": [
    "%%time\n",
    "#times:\n",
    "#for all ks: (3..4,76 ms), (5..8,800 ms)\n",
    "#      19 sec for N=9,..,16, 540s for N=17,..,32, not feasible for N=33,..,64\n",
    "\n",
    "W_time=[]\n",
    "svd_time=[]\n",
    "\n",
    "entropy=[entanglement_entropy(k,Y,N,chosen) for k in range(1,2*L+1) for chosen in combinations(range(k+L),int((k+L)/2))]\n",
    "\n",
    "#entropy[0] will contain all computational steps of first chosen partition"
   ]
  },
  {
   "cell_type": "code",
   "execution_count": 9,
   "metadata": {},
   "outputs": [
    {
     "name": "stdout",
     "output_type": "stream",
     "text": [
      "147.15137000000038 54.93174200000061\n"
     ]
    },
    {
     "data": {
      "image/png": "[encoded data removed]",
      "text/plain": [
       "<Figure size 432x288 with 1 Axes>"
      ]
     },
     "metadata": {
      "needs_background": "light"
     },
     "output_type": "display_data"
    }
   ],
   "source": [
    "plot(range(len(W_time)),[i for i in W_time])\n",
    "plot(range(len(svd_time)),[i for i in svd_time])\n",
    "print(sum(W_time),sum(svd_time))"
   ]
  },
  {
   "cell_type": "code",
   "execution_count": 17,
   "metadata": {},
   "outputs": [
    {
     "name": "stdout",
     "output_type": "stream",
     "text": [
      "CPU times: user 2.59 s, sys: 3.65 ms, total: 2.59 s\n",
      "Wall time: 2.59 s\n"
     ]
    }
   ],
   "source": [
    "%%time\n",
    "#for fixed max k (3..4,54 ms), (5..8,500 ms)\n",
    "#      14 sec for N=9,..,16, 380 s for N=17,..,32, not feasible for N=33,..,64\n",
    "k=2*L\n",
    "entropy=[entanglement_entropy(k,Y,N,chosen) for chosen in combinations(range(k+L),int((k+L)/2))]"
   ]
  },
  {
   "cell_type": "code",
   "execution_count": 19,
   "metadata": {},
   "outputs": [
    {
     "name": "stderr",
     "output_type": "stream",
     "text": [
      "/home/simone/anaconda3/lib/python3.7/site-packages/ipykernel_launcher.py:2: RuntimeWarning: divide by zero encountered in true_divide\n",
      "  \n"
     ]
    },
    {
     "data": {
      "text/plain": [
       "[<matplotlib.lines.Line2D at 0x7fd2745b21d0>]"
      ]
     },
     "execution_count": 19,
     "metadata": {},
     "output_type": "execute_result"
    },
    {
     "data": {
      "image/png": "[encoded data removed]",
      "text/plain": [
       "<Figure size 432x288 with 1 Axes>"
      ]
     },
     "metadata": {
      "needs_background": "light"
     },
     "output_type": "display_data"
    }
   ],
   "source": [
    "x=np.arange(0,2)\n",
    "y= x/(1-x)\n",
    "plot(x,y)"
   ]
  },
  {
   "cell_type": "code",
   "execution_count": null,
   "metadata": {},
   "outputs": [],
   "source": []
  },
  {
   "cell_type": "code",
   "execution_count": null,
   "metadata": {},
   "outputs": [],
   "source": []
  }
 ],
 "metadata": {
  "kernelspec": {
   "display_name": "Python 3",
   "language": "python",
   "name": "python3"
  },
  "language_info": {
   "codemirror_mode": {
    "name": "ipython",
    "version": 3
   },
   "file_extension": ".py",
   "mimetype": "text/x-python",
   "name": "python",
   "nbconvert_exporter": "python",
   "pygments_lexer": "ipython3",
   "version": "3.7.4"
  }
 },
 "nbformat": 4,
 "nbformat_minor": 2
}
