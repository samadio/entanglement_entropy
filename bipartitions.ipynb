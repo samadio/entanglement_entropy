{
 "cells": [
  {
   "cell_type": "code",
   "execution_count": 138,
   "metadata": {},
   "outputs": [
    {
     "name": "stdout",
     "output_type": "stream",
     "text": [
      "Populating the interactive namespace from numpy and matplotlib\n"
     ]
    },
    {
     "name": "stderr",
     "output_type": "stream",
     "text": [
      "/home/simone/anaconda3/lib/python3.7/site-packages/IPython/core/magics/pylab.py:160: UserWarning: pylab import has clobbered these variables: ['test']\n",
      "`%matplotlib` prevents importing * from pylab and numpy\n",
      "  \"\\n`%matplotlib` prevents importing * from pylab and numpy\"\n"
     ]
    }
   ],
   "source": [
    "%pylab inline\n",
    "from scipy.linalg import hadamard as hadamard\n",
    "from sympy import isprime as isprime\n",
    "from math import gcd as GCD\n",
    "from scipy.sparse.coo import coo_matrix as sparsemat\n",
    "from scipy.sparse.linalg import svds as sparsesvd\n",
    "from itertools import combinations"
   ]
  },
  {
   "cell_type": "code",
   "execution_count": 139,
   "metadata": {},
   "outputs": [],
   "source": [
    "def decimal_to_state(m,nqubit):\n",
    "    '''\n",
    "        Return binary representation of m as array of nqubit qubits\n",
    "\n",
    "            Parameters\n",
    "            ----------                \n",
    "            m:   Integer\n",
    "                number to be representend in binary form\n",
    "                \n",
    "            nqubit: Integer\n",
    "                Total number of qubits used for representation\n",
    "                    \n",
    "    '''\n",
    "    \n",
    "    arr=binary_repr(m)\n",
    "    arr=[int(i) for i in arr]\n",
    "    if(len(arr)>nqubit):\n",
    "        raise ValueError(str(nqubit)+\" are not enough qubits to store the number \"+str(m))\n",
    "    if(len(arr)==nqubit): return arr\n",
    "    return list(np.zeros(nqubit-len(arr),dtype=int16))+ arr\n",
    "\n",
    "\n",
    "def to_decimal(array):\n",
    "    '''\n",
    "        Return decimal representation of the array storing a number in binary form\n",
    "\n",
    "        Example: input [1,0,1,0,1] returns 21 \n",
    "            Parameters\n",
    "            ----------                \n",
    "            array: List\n",
    "                array containing binary representation of a number\n",
    "                \n",
    "                    \n",
    "    '''\n",
    "\n",
    "    size=len(array)\n",
    "    return int(np.sum([array[i] *2**(size-i-1)  for i in range(size)]))\n",
    "\n",
    "def find_coprime(N):     \n",
    "    \"\"\"\n",
    "            Find a coprime of N for N>2\n",
    "            Parameters\n",
    "            ----------\n",
    "            N:  Integer\n",
    "                Number to find the coprime of\n",
    "\n",
    "    \"\"\"\n",
    "    if(N<3):\n",
    "        raise ValueError(\"Illegal argument: coprimes exist for N>2\")\n",
    "    Y=randint(2,N)\n",
    "    used=[]\n",
    "    while 1:\n",
    "        a=GCD(Y,N)\n",
    "        if (a>1):\n",
    "            #this Y is not coprime\n",
    "            used.append(Y)\n",
    "            while(Y in used):\n",
    "                Y=randint(2,N)\n",
    "        else: return Y"
   ]
  },
  {
   "cell_type": "code",
   "execution_count": 140,
   "metadata": {},
   "outputs": [],
   "source": [
    "def notchosen(chosen,system_size):\n",
    "    \"\"\"\n",
    "            Return array containing the qubit NOT in the partition\n",
    "            \n",
    "            Parameters\n",
    "            ----------                \n",
    "            chosen:   List\n",
    "                List of the qubits selected as partition, in the form [1,3,7,..]\n",
    "                \n",
    "            system_size: Integer\n",
    "                Total number of qubits\n",
    "                    \n",
    "    \"\"\"\n",
    "    \n",
    "    notchosen=list(set(list(range(system_size)))-set(chosen))\n",
    "    notchosen.sort()\n",
    "    return notchosen\n",
    "\n",
    "def create_W(k,Y,N,chosen):\n",
    "    '''\n",
    "    creates W directly\n",
    "    \n",
    "    '''\n",
    "    \n",
    "    L=int(ceil(log2(N)))\n",
    "    if(k>2*L):\n",
    "        raise ValueError(str(k)+\"th computational step does not make sense in a \"+str(2*L)+\" qubits control register\")\n",
    "    \n",
    "    #nonzero elements of psi in binary form\n",
    "    nonzeros=[decimal_to_state(m*2**L+(Y**m%N),k+L) for m in range(2**k)]\n",
    "    not_chosen=notchosen(chosen,k+L)  \n",
    "\n",
    "    indexes=[ (to_decimal(split_components(i,chosen)),to_decimal((split_components(i,not_chosen)))) for i in nonzeros]\n",
    "    row=[elem[0] for elem in indexes]\n",
    "    col=[elem[1] for elem in indexes]\n",
    "    data=np.ones(2**k)/sqrt(2**k)\n",
    "    \n",
    "    return sparsemat((data,(row,col)), shape=(2**len(chosen),2**len(not_chosen))    ).tocsc()\n",
    "\n",
    "def split_components(array,chosen):\n",
    "    '''\n",
    "    Given an input array and selected components returns two arrays.\n",
    "    The first array contains only the chosen components and the other the remainders\n",
    "    '''\n",
    "    if( max(chosen) not in range(len(array)))  :\n",
    "        raise ValueError('the chosen '+str(max(chosen))+' bit is not present in a '+str(len(array))+' bits register')\n",
    "    return [array[i] for i in chosen]\n",
    "\n",
    "\n",
    "def entanglement_entropy(k,Y,N,chosen):\n",
    "    W=create_W(k,Y,N,chosen)\n",
    "    eigs=sparsesvd(W,k=min(shape(W))-1,which='LM',return_singular_vectors=False)\n",
    "    eigs=eigs*eigs\n",
    "    return -np.sum([i*np.log2(i) for i in eigs if i>0])"
   ]
  },
  {
   "cell_type": "code",
   "execution_count": 196,
   "metadata": {},
   "outputs": [],
   "source": [
    "N=3\n",
    "L=int(ceil(log2(N)))\n",
    "#Y=find_coprime(N)\n",
    "#print(Y)\n",
    "Y= #N,Y=(3,2),(6,5),(10,7),(11,8), (64,57)"
   ]
  },
  {
   "cell_type": "code",
   "execution_count": 197,
   "metadata": {},
   "outputs": [
    {
     "name": "stdout",
     "output_type": "stream",
     "text": [
      "CPU times: user 9 µs, sys: 1e+03 ns, total: 10 µs\n",
      "Wall time: 12.6 µs\n"
     ]
    }
   ],
   "source": [
    "%%time\n",
    "#times:(3..4,40 ms), (5..8,300ms)\n",
    "#5.5 sec for N=9,..,16, 150s for N=17,..,32, not feasible for N=33,..,64\n",
    "\n",
    "entropy=[entanglement_entropy(k,Y,N,chosen) for k in range(1,2*L) for chosen in combinations(range(k+L),int((k+L)/2))]\n",
    "#entropy[0] will contain all computational steps of first chosen partition"
   ]
  },
  {
   "cell_type": "code",
   "execution_count": null,
   "metadata": {},
   "outputs": [],
   "source": []
  }
 ],
 "metadata": {
  "kernelspec": {
   "display_name": "Python 3",
   "language": "python",
   "name": "python3"
  },
  "language_info": {
   "codemirror_mode": {
    "name": "ipython",
    "version": 3
   },
   "file_extension": ".py",
   "mimetype": "text/x-python",
   "name": "python",
   "nbconvert_exporter": "python",
   "pygments_lexer": "ipython3",
   "version": "3.7.4"
  }
 },
 "nbformat": 4,
 "nbformat_minor": 2
}
