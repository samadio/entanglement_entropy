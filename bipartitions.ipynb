{
 "cells": [
  {
   "cell_type": "code",
   "execution_count": 1,
   "metadata": {},
   "outputs": [
    {
     "name": "stdout",
     "output_type": "stream",
     "text": [
      "Populating the interactive namespace from numpy and matplotlib\n"
     ]
    }
   ],
   "source": [
    "%pylab inline\n",
    "from math import gcd as GCD\n",
    "from scipy.sparse.coo import coo_matrix as sparsemat\n",
    "from scipy.sparse.linalg import svds as sparsesvd\n",
    "from itertools import combinations\n",
    "from numpy import mean as mean\n",
    "import time\n",
    "from scipy.special import comb as bin_coeff"
   ]
  },
  {
   "cell_type": "code",
   "execution_count": 2,
   "metadata": {},
   "outputs": [],
   "source": [
    "def decimal_to_binary(number,length):\n",
    "    '''\n",
    "        Returns binary representation of number as string of minimum length length\n",
    "        \n",
    "        Parameters\n",
    "            ----------\n",
    "            number:  Integer\n",
    "                     decimal number to be converted in binary form\n",
    "                     \n",
    "            length:  Integer\n",
    "                     minimum length of the string\n",
    "                     \n",
    "            ----------\n",
    "            Example:\n",
    "            decimal_to_binary(2,5) will yield str(00010)    \n",
    "    '''\n",
    "    \n",
    "    return np.binary_repr(number,length)\n",
    "    \n",
    "\n",
    "def to_decimal(string_list):\n",
    "    '''\n",
    "        converts a list of strings representing a binary number and returns\n",
    "        its decimal representation as integer\n",
    "        \n",
    "        Parameters\n",
    "            ----------\n",
    "            string_array:  List\n",
    "                     list of binary strings to be converted\n",
    "    '''\n",
    "    \n",
    "    string=\"\".join(string_list)\n",
    "    return int(string,2)    \n",
    "\n",
    "\n",
    "def find_coprime(N):     \n",
    "    \"\"\"\n",
    "            Find a coprime of N for N>2\n",
    "            Parameters\n",
    "            ----------\n",
    "            N:  Integer\n",
    "                Number to find the coprime of\n",
    "\n",
    "    \"\"\"\n",
    "    if(N<3):\n",
    "        raise ValueError(\"Illegal argument: coprimes exist for N>2\")\n",
    "    Y=randint(2,N)\n",
    "    used=[]\n",
    "    while 1:\n",
    "        a=GCD(Y,N)\n",
    "        if (a>1):\n",
    "            #this Y is not coprime\n",
    "            used.append(Y)\n",
    "            while(Y in used):\n",
    "                Y=randint(2,N)\n",
    "        else: return Y"
   ]
  },
  {
   "cell_type": "code",
   "execution_count": 14,
   "metadata": {},
   "outputs": [],
   "source": [
    "def notchosen(chosen,system_size):\n",
    "    \"\"\"\n",
    "            Return array containing the qubit NOT in the partition\n",
    "            \n",
    "            Parameters\n",
    "            ----------                \n",
    "            chosen:   List\n",
    "                List of the qubits selected as partition, in the form [1,3,7,..]\n",
    "                \n",
    "            system_size: Integer\n",
    "                Total number of qubits\n",
    "                    \n",
    "    \"\"\"\n",
    "    \n",
    "    notchosen=list(set(list(range(system_size)))-set(chosen))\n",
    "    notchosen.sort()\n",
    "    return notchosen\n",
    "\n",
    "def split_components(array,chosen):\n",
    "    '''\n",
    "    Given an input array and selected components returns only the selected components.\n",
    "    '''\n",
    "    if( max(chosen) not in range(len(array)))  :\n",
    "        raise ValueError('the chosen '+str(max(chosen))+' bit is not present in a '+str(len(array))+' bits register')\n",
    "    return [array[i] for i in chosen]\n",
    "\n",
    "\n",
    "def create_W(k,Y,N,chosen):\n",
    "    '''\n",
    "    creates W directly\n",
    "    \n",
    "    '''\n",
    "    \n",
    "    L=int(ceil(log2(N)))\n",
    "    if(k>2*L):\n",
    "        raise ValueError(str(k)+\"th computational step does not make sense in a \"+str(2*L)+\" qubits control register\")\n",
    "    \n",
    "    #nonzero elements of psi in binary form\n",
    "    nonzeros=[decimal_to_binary(m*2**L+(Y**m%N),k+L) for m in range(2**k)]\n",
    "    not_chosen=notchosen(chosen,k+L)   \n",
    "        \n",
    "    indexes=[ (to_decimal(split_components(i,chosen)),to_decimal((split_components(i,not_chosen)))) for i in nonzeros]\n",
    "    \n",
    "    row=[elem[0] for elem in indexes]\n",
    "    col=[elem[1] for elem in indexes]\n",
    "    data=np.ones(2**k)*(2**(-k/2))\n",
    "    \n",
    "    return sparsemat((data,(row,col)), shape=(2**len(chosen),2**len(not_chosen))    ).tocsc()\n",
    "\n",
    "def entanglement_entropy(k,Y,N,chosen):\n",
    "    #global W_time\n",
    "    #t0=time.time()\n",
    "    W=create_W(k,Y,N,chosen)\n",
    "    #W_time.append(time.time()-t0)\n",
    "    \n",
    "    #global svd_time\n",
    "    #t0=time.time()\n",
    "    eigs=sparsesvd(W,k=min(shape(W))-1,which='LM',return_singular_vectors=False)\n",
    "    eigs=eigs*eigs\n",
    "    entr=-np.sum([i*np.log2(i) for i in eigs if i>0])\n",
    "    \n",
    "    #svd_time.append(time.time()-t0)\n",
    "    return entr"
   ]
  },
  {
   "cell_type": "code",
   "execution_count": 4,
   "metadata": {},
   "outputs": [],
   "source": [
    "N=21\n",
    "L=int(ceil(log2(N)))\n",
    "#Y=find_coprime(N)\n",
    "#print(Y)\n",
    "Y=13 #N,Y=(3,2),(6,5),(10,7),(11,8),(21,17), (64,57)"
   ]
  },
  {
   "cell_type": "code",
   "execution_count": 18,
   "metadata": {},
   "outputs": [
    {
     "ename": "KeyboardInterrupt",
     "evalue": "",
     "output_type": "error",
     "traceback": [
      "\u001b[0;31m---------------------------------------------------------------------------\u001b[0m",
      "\u001b[0;31mKeyboardInterrupt\u001b[0m                         Traceback (most recent call last)",
      "\u001b[0;32m<timed exec>\u001b[0m in \u001b[0;36m<module>\u001b[0;34m\u001b[0m\n",
      "\u001b[0;32m<timed exec>\u001b[0m in \u001b[0;36m<listcomp>\u001b[0;34m(.0)\u001b[0m\n",
      "\u001b[0;32m<ipython-input-16-0e5f4e84a30f>\u001b[0m in \u001b[0;36mentanglement_entropy\u001b[0;34m(k, Y, N, chosen)\u001b[0m\n\u001b[1;32m     56\u001b[0m     \u001b[0;32mglobal\u001b[0m \u001b[0msvd_time\u001b[0m\u001b[0;34m\u001b[0m\u001b[0;34m\u001b[0m\u001b[0m\n\u001b[1;32m     57\u001b[0m     \u001b[0mt0\u001b[0m\u001b[0;34m=\u001b[0m\u001b[0mtime\u001b[0m\u001b[0;34m.\u001b[0m\u001b[0mtime\u001b[0m\u001b[0;34m(\u001b[0m\u001b[0;34m)\u001b[0m\u001b[0;34m\u001b[0m\u001b[0;34m\u001b[0m\u001b[0m\n\u001b[0;32m---> 58\u001b[0;31m     \u001b[0meigs\u001b[0m\u001b[0;34m=\u001b[0m\u001b[0msparsesvd\u001b[0m\u001b[0;34m(\u001b[0m\u001b[0mW\u001b[0m\u001b[0;34m,\u001b[0m\u001b[0mk\u001b[0m\u001b[0;34m=\u001b[0m\u001b[0mmin\u001b[0m\u001b[0;34m(\u001b[0m\u001b[0mshape\u001b[0m\u001b[0;34m(\u001b[0m\u001b[0mW\u001b[0m\u001b[0;34m)\u001b[0m\u001b[0;34m)\u001b[0m\u001b[0;34m-\u001b[0m\u001b[0;36m1\u001b[0m\u001b[0;34m,\u001b[0m\u001b[0mwhich\u001b[0m\u001b[0;34m=\u001b[0m\u001b[0;34m'LM'\u001b[0m\u001b[0;34m,\u001b[0m\u001b[0mreturn_singular_vectors\u001b[0m\u001b[0;34m=\u001b[0m\u001b[0;32mFalse\u001b[0m\u001b[0;34m)\u001b[0m\u001b[0;34m\u001b[0m\u001b[0;34m\u001b[0m\u001b[0m\n\u001b[0m\u001b[1;32m     59\u001b[0m     \u001b[0meigs\u001b[0m\u001b[0;34m=\u001b[0m\u001b[0meigs\u001b[0m\u001b[0;34m*\u001b[0m\u001b[0meigs\u001b[0m\u001b[0;34m\u001b[0m\u001b[0;34m\u001b[0m\u001b[0m\n\u001b[1;32m     60\u001b[0m     \u001b[0mentr\u001b[0m\u001b[0;34m=\u001b[0m\u001b[0;34m-\u001b[0m\u001b[0mnp\u001b[0m\u001b[0;34m.\u001b[0m\u001b[0msum\u001b[0m\u001b[0;34m(\u001b[0m\u001b[0;34m[\u001b[0m\u001b[0mi\u001b[0m\u001b[0;34m*\u001b[0m\u001b[0mnp\u001b[0m\u001b[0;34m.\u001b[0m\u001b[0mlog2\u001b[0m\u001b[0;34m(\u001b[0m\u001b[0mi\u001b[0m\u001b[0;34m)\u001b[0m \u001b[0;32mfor\u001b[0m \u001b[0mi\u001b[0m \u001b[0;32min\u001b[0m \u001b[0meigs\u001b[0m \u001b[0;32mif\u001b[0m \u001b[0mi\u001b[0m\u001b[0;34m>\u001b[0m\u001b[0;36m0\u001b[0m\u001b[0;34m]\u001b[0m\u001b[0;34m)\u001b[0m\u001b[0;34m\u001b[0m\u001b[0;34m\u001b[0m\u001b[0m\n",
      "\u001b[0;32m~/anaconda3/lib/python3.7/site-packages/scipy/sparse/linalg/eigen/arpack/arpack.py\u001b[0m in \u001b[0;36msvds\u001b[0;34m(A, k, ncv, tol, which, v0, maxiter, return_singular_vectors)\u001b[0m\n\u001b[1;32m   1824\u001b[0m     \u001b[0;31m# This is not a stable way to approach the problem.\u001b[0m\u001b[0;34m\u001b[0m\u001b[0;34m\u001b[0m\u001b[0;34m\u001b[0m\u001b[0m\n\u001b[1;32m   1825\u001b[0m     eigvals, eigvec = eigsh(XH_X, k=k, tol=tol ** 2, maxiter=maxiter,\n\u001b[0;32m-> 1826\u001b[0;31m                                   ncv=ncv, which=which, v0=v0)\n\u001b[0m\u001b[1;32m   1827\u001b[0m \u001b[0;34m\u001b[0m\u001b[0m\n\u001b[1;32m   1828\u001b[0m     \u001b[0;31m# In 'LM' mode try to be clever about small eigenvalues.\u001b[0m\u001b[0;34m\u001b[0m\u001b[0;34m\u001b[0m\u001b[0;34m\u001b[0m\u001b[0m\n",
      "\u001b[0;32m~/anaconda3/lib/python3.7/site-packages/scipy/sparse/linalg/eigen/arpack/arpack.py\u001b[0m in \u001b[0;36meigsh\u001b[0;34m(A, k, M, sigma, which, v0, ncv, maxiter, tol, return_eigenvectors, Minv, OPinv, mode)\u001b[0m\n\u001b[1;32m   1665\u001b[0m     \u001b[0;32mwith\u001b[0m \u001b[0m_ARPACK_LOCK\u001b[0m\u001b[0;34m:\u001b[0m\u001b[0;34m\u001b[0m\u001b[0;34m\u001b[0m\u001b[0m\n\u001b[1;32m   1666\u001b[0m         \u001b[0;32mwhile\u001b[0m \u001b[0;32mnot\u001b[0m \u001b[0mparams\u001b[0m\u001b[0;34m.\u001b[0m\u001b[0mconverged\u001b[0m\u001b[0;34m:\u001b[0m\u001b[0;34m\u001b[0m\u001b[0;34m\u001b[0m\u001b[0m\n\u001b[0;32m-> 1667\u001b[0;31m             \u001b[0mparams\u001b[0m\u001b[0;34m.\u001b[0m\u001b[0miterate\u001b[0m\u001b[0;34m(\u001b[0m\u001b[0;34m)\u001b[0m\u001b[0;34m\u001b[0m\u001b[0;34m\u001b[0m\u001b[0m\n\u001b[0m\u001b[1;32m   1668\u001b[0m \u001b[0;34m\u001b[0m\u001b[0m\n\u001b[1;32m   1669\u001b[0m         \u001b[0;32mreturn\u001b[0m \u001b[0mparams\u001b[0m\u001b[0;34m.\u001b[0m\u001b[0mextract\u001b[0m\u001b[0;34m(\u001b[0m\u001b[0mreturn_eigenvectors\u001b[0m\u001b[0;34m)\u001b[0m\u001b[0;34m\u001b[0m\u001b[0;34m\u001b[0m\u001b[0m\n",
      "\u001b[0;32m~/anaconda3/lib/python3.7/site-packages/scipy/sparse/linalg/eigen/arpack/arpack.py\u001b[0m in \u001b[0;36miterate\u001b[0;34m(self)\u001b[0m\n\u001b[1;32m    538\u001b[0m                                 self.ipntr, self.workd, self.workl, self.info)\n\u001b[1;32m    539\u001b[0m \u001b[0;34m\u001b[0m\u001b[0m\n\u001b[0;32m--> 540\u001b[0;31m         \u001b[0mxslice\u001b[0m \u001b[0;34m=\u001b[0m \u001b[0mslice\u001b[0m\u001b[0;34m(\u001b[0m\u001b[0mself\u001b[0m\u001b[0;34m.\u001b[0m\u001b[0mipntr\u001b[0m\u001b[0;34m[\u001b[0m\u001b[0;36m0\u001b[0m\u001b[0;34m]\u001b[0m \u001b[0;34m-\u001b[0m \u001b[0;36m1\u001b[0m\u001b[0;34m,\u001b[0m \u001b[0mself\u001b[0m\u001b[0;34m.\u001b[0m\u001b[0mipntr\u001b[0m\u001b[0;34m[\u001b[0m\u001b[0;36m0\u001b[0m\u001b[0;34m]\u001b[0m \u001b[0;34m-\u001b[0m \u001b[0;36m1\u001b[0m \u001b[0;34m+\u001b[0m \u001b[0mself\u001b[0m\u001b[0;34m.\u001b[0m\u001b[0mn\u001b[0m\u001b[0;34m)\u001b[0m\u001b[0;34m\u001b[0m\u001b[0;34m\u001b[0m\u001b[0m\n\u001b[0m\u001b[1;32m    541\u001b[0m         \u001b[0myslice\u001b[0m \u001b[0;34m=\u001b[0m \u001b[0mslice\u001b[0m\u001b[0;34m(\u001b[0m\u001b[0mself\u001b[0m\u001b[0;34m.\u001b[0m\u001b[0mipntr\u001b[0m\u001b[0;34m[\u001b[0m\u001b[0;36m1\u001b[0m\u001b[0;34m]\u001b[0m \u001b[0;34m-\u001b[0m \u001b[0;36m1\u001b[0m\u001b[0;34m,\u001b[0m \u001b[0mself\u001b[0m\u001b[0;34m.\u001b[0m\u001b[0mipntr\u001b[0m\u001b[0;34m[\u001b[0m\u001b[0;36m1\u001b[0m\u001b[0;34m]\u001b[0m \u001b[0;34m-\u001b[0m \u001b[0;36m1\u001b[0m \u001b[0;34m+\u001b[0m \u001b[0mself\u001b[0m\u001b[0;34m.\u001b[0m\u001b[0mn\u001b[0m\u001b[0;34m)\u001b[0m\u001b[0;34m\u001b[0m\u001b[0;34m\u001b[0m\u001b[0m\n\u001b[1;32m    542\u001b[0m         \u001b[0;32mif\u001b[0m \u001b[0mself\u001b[0m\u001b[0;34m.\u001b[0m\u001b[0mido\u001b[0m \u001b[0;34m==\u001b[0m \u001b[0;34m-\u001b[0m\u001b[0;36m1\u001b[0m\u001b[0;34m:\u001b[0m\u001b[0;34m\u001b[0m\u001b[0;34m\u001b[0m\u001b[0m\n",
      "\u001b[0;31mKeyboardInterrupt\u001b[0m: "
     ]
    }
   ],
   "source": [
    "%%time\n",
    "#times:\n",
    "#for all ks: (3..4,56 ms), (5..8,471 ms)\n",
    "#      (9..16,8s) (N=17..32,210s) not feasible for N=33,..,64\n",
    "\n",
    "W_time=[]\n",
    "svd_time=[]\n",
    "\n",
    "entropy=[entanglement_entropy(k,Y,N,chosen) for k in range(1,2*L+1) for chosen in combinations(range(k+L),(k+L)//2)]\n",
    "\n",
    "#entropy[0] will contain all computational steps of first chosen partition"
   ]
  },
  {
   "cell_type": "code",
   "execution_count": 255,
   "metadata": {},
   "outputs": [
    {
     "name": "stdout",
     "output_type": "stream",
     "text": [
      "6.620138168334961 1.3062546253204346\n"
     ]
    },
    {
     "data": {
      "image/png": "[encoded data removed]",
      "text/plain": [
       "<Figure size 432x288 with 1 Axes>"
      ]
     },
     "metadata": {
      "needs_background": "light"
     },
     "output_type": "display_data"
    }
   ],
   "source": [
    "fig = plt.figure()\n",
    "ax = plt.subplot(111)\n",
    "\n",
    "plt.title(\"Construction time vs singular value time\")\n",
    "plt.ylabel(\"Time (s)\")\n",
    "plt.xlabel(\"(k,partition)\")\n",
    "\n",
    "ax.plot(range(len(W_time)),[i for i in W_time],label=\"Construction of W\",linewidth=0.4) #blue\n",
    "ax.plot(range(len(svd_time)),[i for i in svd_time],label=\"Singular value\",linewidth=0.4) #orange\n",
    "ax.legend()\n",
    "#plt.savefig(\"ConstructionVsSingularValue2.png\",dpi=300)\n",
    "print(sum(W_time),sum(svd_time))"
   ]
  },
  {
   "cell_type": "code",
   "execution_count": 75,
   "metadata": {},
   "outputs": [],
   "source": [
    "#W_split=W_time\n",
    "#W_take=W_time"
   ]
  },
  {
   "cell_type": "code",
   "execution_count": 88,
   "metadata": {},
   "outputs": [
    {
     "data": {
      "image/png": "[encoded data removed]",
      "text/plain": [
       "<Figure size 432x288 with 1 Axes>"
      ]
     },
     "metadata": {
      "needs_background": "light"
     },
     "output_type": "display_data"
    }
   ],
   "source": [
    "#plot(range(len(W_time)),[i for i in W_split]) #blue\n",
    "#plot(range(len(W_time)),[i for i in W_take]) #orange\n",
    "\n",
    "#total time(s): (split,426) (take,606)\n",
    "\n",
    "plt.plot(range(len(W_time)),array(W_take)-array(W_split),linewidth=0.4) #orange\n",
    "plt.title(\"W constructing time. N=21, Y=17\")\n",
    "plt.ylabel(\"takeTime-splitTime (s)\")\n",
    "#plt.savefig(\"takeVsSplit\",dpi=300)"
   ]
  },
  {
   "cell_type": "code",
   "execution_count": 15,
   "metadata": {},
   "outputs": [],
   "source": [
    "import random\n",
    "\n",
    "def random_combination(iterable, r):\n",
    "    \"Random selection from itertools.combinations(iterable, r)\"\n",
    "    pool = tuple(iterable)\n",
    "    n = len(pool)\n",
    "    indices = sorted(random.sample(range(n), r))\n",
    "    return tuple(pool[i] for i in indices)\n",
    "\n",
    "\n",
    "def average_entropy(k,Y,N,maxiter=10000, return_singles=True,\n",
    "                    tol=1e-4,step=100):\n",
    "    '''\n",
    "    Computes and return an approximate entanglement entropy of the system\n",
    "    averaged on all possible balanced bipartitions. It stops when the estimate is stable\n",
    "    \n",
    "    It returns (niter,average,singles,combinations) if return_singles=True\n",
    "    Only first two elements when flag is False\n",
    "    '''\n",
    "\n",
    "    if(not return_singles): return average_entropy_in_place(k,Y,N,maxiter,tol,step)\n",
    "    \n",
    "\n",
    "    niter=maxiter\n",
    "    results=[]\n",
    "    L=int(ceil(log2(N)))\n",
    "    qubits=range(k+L)\n",
    "    partition_dimension= len(qubits)//2\n",
    "    combinations=[]\n",
    "    entropies=[]\n",
    "    previous_mean=0\n",
    "    \n",
    "    for i in range(maxiter):\n",
    "        i+=1\n",
    "        current_comb=random_combination(qubits,partition_dimension)\n",
    "        #extracting each combination at most once\n",
    "        while(current_comb in combinations):\n",
    "            current_comb=random_combination(qubits,partition_dimension)            \n",
    "        combinations.append(current_comb)\n",
    "        current_entropy=entanglement_entropy(k,Y,N,current_comb)\n",
    "        entropies.append(current_entropy)\n",
    "        current_mean=mean(entropies)\n",
    "        \n",
    "        if(i==step):\n",
    "            previous_mean=current_mean\n",
    "            continue\n",
    "            \n",
    "        if(i+1%step==0):\n",
    "            if(np.abs(current_mean-previous_mean)<tol):\n",
    "                return (i,current_mean,entropies,combinations)\n",
    "            previous_mean=current_mean\n",
    "        \n",
    "    return (maxiter,mean(entropies),entropies,combinations)\n",
    "\n",
    "\n",
    "def average_entropy_in_place(k,Y,N,maxiter=10000,tol=1e-4,step=100):\n",
    "    \n",
    "    L=int(ceil(log2(N)))\n",
    "    qubits=range(k+L)\n",
    "    partition_dimension= len(qubits)//2\n",
    "    total_entropy=0\n",
    "    combinations=[]\n",
    "    prev=0\n",
    "\n",
    "    for i in range(maxiter):\n",
    "        i+=1\n",
    "        current_comb=random_combination(qubits,partition_dimension)\n",
    "        #extracting each combination at most once\n",
    "        while(current_comb in combinations):\n",
    "            current_comb=random_combination(qubits,partition_dimension)            \n",
    "        combinations.append(current_comb)\n",
    "        \n",
    "        total_entropy+=entanglement_entropy(k,Y,N,current_comb)\n",
    "        if(i==step):\n",
    "            previous_mean=total_entropy/i\n",
    "            continue\n",
    "        \n",
    "        if(i%step==0):\n",
    "            current_mean=total_entropy/i\n",
    "            if(np.abs(current_mean-previous_mean)<tol):\n",
    "                return (i,current_mean)\n",
    "            previous_mean=current_mean\n",
    "            \n",
    "    return (maxiter,total_entropy/maxiter)"
   ]
  },
  {
   "cell_type": "code",
   "execution_count": 16,
   "metadata": {},
   "outputs": [
    {
     "name": "stdout",
     "output_type": "stream",
     "text": [
      "1000 0.814\n",
      "CPU times: user 38.1 s, sys: 1.08 s, total: 39.2 s\n",
      "Wall time: 19.6 s\n"
     ]
    }
   ],
   "source": [
    "%%time\n",
    "iterations,average,singles,comb=average_entropy(2*L,Y,N,1000,True)\n",
    "print(iterations,average)"
   ]
  },
  {
   "cell_type": "code",
   "execution_count": null,
   "metadata": {},
   "outputs": [],
   "source": []
  },
  {
   "cell_type": "code",
   "execution_count": null,
   "metadata": {},
   "outputs": [],
   "source": []
  },
  {
   "cell_type": "code",
   "execution_count": 48,
   "metadata": {},
   "outputs": [
    {
     "name": "stdout",
     "output_type": "stream",
     "text": [
      "CPU times: user 12.3 s, sys: 328 ms, total: 12.6 s\n",
      "Wall time: 7.44 s\n"
     ]
    }
   ],
   "source": [
    "%%time\n",
    "N=12\n",
    "L=int(ceil(log2(N)))\n",
    "entropy=[entanglement_entropy(k,Y,N,chosen) for k in range(1,2*L+1) for chosen in combinations(range(k+L),(k+L)//2)]"
   ]
  },
  {
   "cell_type": "code",
   "execution_count": 192,
   "metadata": {},
   "outputs": [
    {
     "data": {
      "text/plain": [
       "[<matplotlib.lines.Line2D at 0x7f16539a7fd0>]"
      ]
     },
     "execution_count": 192,
     "metadata": {},
     "output_type": "execute_result"
    },
    {
     "data": {
      "image/png": "[encoded data removed]",
      "text/plain": [
       "<Figure size 432x288 with 1 Axes>"
      ]
     },
     "metadata": {
      "needs_background": "light"
     },
     "output_type": "display_data"
    }
   ],
   "source": [
    "plot([j/i for i,j in zip(oldtime,nonzero_time)])"
   ]
  },
  {
   "cell_type": "code",
   "execution_count": 188,
   "metadata": {},
   "outputs": [],
   "source": [
    "def decimal_to_binary(number,length):\n",
    "    '''return binary representation as string'''\n",
    "    return np.binary_repr(number,length)\n",
    "    \n",
    "def to_decimal(string_array):\n",
    "    '''takes array of strings representing binary number and returns\n",
    "     its decimal representation'''\n",
    "    string=\"\".join(string_array)\n",
    "    return int(string,2)"
   ]
  },
  {
   "cell_type": "code",
   "execution_count": 167,
   "metadata": {},
   "outputs": [
    {
     "name": "stdout",
     "output_type": "stream",
     "text": [
      "01010\n"
     ]
    }
   ],
   "source": [
    "test1=decimal_to_binary(10,5)\n",
    "print(test1)"
   ]
  },
  {
   "cell_type": "code",
   "execution_count": 169,
   "metadata": {},
   "outputs": [
    {
     "name": "stdout",
     "output_type": "stream",
     "text": [
      "['0', '0']\n"
     ]
    }
   ],
   "source": [
    "test2=split_components(test1,[2,4])\n",
    "print(test2)"
   ]
  },
  {
   "cell_type": "code",
   "execution_count": 170,
   "metadata": {},
   "outputs": [
    {
     "data": {
      "text/plain": [
       "0"
      ]
     },
     "execution_count": 170,
     "metadata": {},
     "output_type": "execute_result"
    }
   ],
   "source": [
    "to_decimal(test2)"
   ]
  },
  {
   "cell_type": "code",
   "execution_count": 12,
   "metadata": {},
   "outputs": [
    {
     "name": "stdout",
     "output_type": "stream",
     "text": [
      "50652\n",
      "(50652, 2)\n"
     ]
    }
   ],
   "source": [
    "L=int(ceil(log2(33)))\n",
    "print(sum([number_of_bipartitions(k+L) for k in range(0,2*L)]))\n",
    "print(np.shape([(i,k) for k in range(0,2*L) for i in combinations(range(k+L),(k+L)//2)]))"
   ]
  },
  {
   "cell_type": "code",
   "execution_count": 13,
   "metadata": {},
   "outputs": [],
   "source": [
    "def number_of_bipartitions(size):\n",
    "    return bin_coeff(size,size//2,exact=True)"
   ]
  },
  {
   "cell_type": "code",
   "execution_count": 17,
   "metadata": {},
   "outputs": [
    {
     "data": {
      "text/plain": [
       "6435"
      ]
     },
     "execution_count": 17,
     "metadata": {},
     "output_type": "execute_result"
    }
   ],
   "source": [
    "L=int(ceil(log2(N)))\n",
    "number_of_bipartitions(3*L)"
   ]
  },
  {
   "cell_type": "code",
   "execution_count": null,
   "metadata": {},
   "outputs": [],
   "source": []
  },
  {
   "cell_type": "code",
   "execution_count": null,
   "metadata": {},
   "outputs": [],
   "source": []
  }
 ],
 "metadata": {
  "kernelspec": {
   "display_name": "Python 3",
   "language": "python",
   "name": "python3"
  },
  "language_info": {
   "codemirror_mode": {
    "name": "ipython",
    "version": 3
   },
   "file_extension": ".py",
   "mimetype": "text/x-python",
   "name": "python",
   "nbconvert_exporter": "python",
   "pygments_lexer": "ipython3",
   "version": "3.7.4"
  }
 },
 "nbformat": 4,
 "nbformat_minor": 2
}
