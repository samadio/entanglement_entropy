{
 "cells": [
  {
   "cell_type": "code",
   "execution_count": 1,
   "metadata": {},
   "outputs": [
    {
     "name": "stdout",
     "output_type": "stream",
     "text": [
      "Populating the interactive namespace from numpy and matplotlib\n"
     ]
    }
   ],
   "source": [
    "%pylab inline"
   ]
  },
  {
   "cell_type": "code",
   "execution_count": 29,
   "metadata": {},
   "outputs": [
    {
     "ename": "ModuleNotFoundError",
     "evalue": "No module named 'times_L_8'",
     "output_type": "error",
     "traceback": [
      "\u001b[0;31m---------------------------------------------------------------------------\u001b[0m",
      "\u001b[0;31mModuleNotFoundError\u001b[0m                       Traceback (most recent call last)",
      "\u001b[0;32m<ipython-input-29-65b48c3acbc8>\u001b[0m in \u001b[0;36m<module>\u001b[0;34m\u001b[0m\n\u001b[0;32m----> 1\u001b[0;31m \u001b[0;32mfrom\u001b[0m \u001b[0mtimes_L_8\u001b[0m \u001b[0;32mimport\u001b[0m \u001b[0mmeans\u001b[0m \u001b[0;32mas\u001b[0m \u001b[0mnew_times_1\u001b[0m\u001b[0;34m\u001b[0m\u001b[0;34m\u001b[0m\u001b[0m\n\u001b[0m\u001b[1;32m      2\u001b[0m old_times = [2e-4,4.2e-4,4.9e-4,6.1e-4,8.4e-4,13e-4,21e-4,38e-4,76e-4,15.5e-3,\n\u001b[1;32m      3\u001b[0m              32e-3,68e-3,13e-2,26e-2,54e-2,1.08,38.5]\n\u001b[1;32m      4\u001b[0m new_times = [0.002314382606559807, 0.0024450173377990724, 0.00256850790977478, \n\u001b[1;32m      5\u001b[0m              \u001b[0;36m0.004367105007171631\u001b[0m\u001b[0;34m,\u001b[0m \u001b[0;36m0.00439934778213501\u001b[0m\u001b[0;34m,\u001b[0m \u001b[0;36m0.007263611316680909\u001b[0m\u001b[0;34m,\u001b[0m\u001b[0;34m\u001b[0m\u001b[0;34m\u001b[0m\u001b[0m\n",
      "\u001b[0;31mModuleNotFoundError\u001b[0m: No module named 'times_L_8'"
     ]
    }
   ],
   "source": [
    "from times_L_8 import means as new_times_1\n",
    "old_times = [2e-4,4.2e-4,4.9e-4,6.1e-4,8.4e-4,13e-4,21e-4,38e-4,76e-4,15.5e-3,\n",
    "             32e-3,68e-3,13e-2,26e-2,54e-2,1.08,38.5]\n",
    "new_times = [0.002314382606559807, 0.0024450173377990724, 0.00256850790977478, \n",
    "             0.004367105007171631, 0.00439934778213501, 0.007263611316680909,\n",
    "             0.007337077379226685, 0.015127356767654419, 0.01657407283782959,\n",
    "             0.044372370958328244, 0.049275503158569336, 0.11925171637535095, \n",
    "             0.15164084911346434, 0.43083803248405456, 0.5316097068786622, \n",
    "             2.0756871299743653,2.0756871299743653]\n",
    "\n",
    "print(new_times1)\n",
    "\n",
    "print(len(old_times))\n",
    "print(len(new_times))\n",
    "old_times = np.array(old_times)\n",
    "new_times = np.array(new_times)\n",
    "diff = old_times - new_times"
   ]
  },
  {
   "cell_type": "code",
   "execution_count": 27,
   "metadata": {},
   "outputs": [
    {
     "data": {
      "image/png": "[encoded data removed]",
      "text/plain": [
       "<Figure size 432x288 with 1 Axes>"
      ]
     },
     "metadata": {
      "needs_background": "light"
     },
     "output_type": "display_data"
    }
   ],
   "source": [
    "plot(diff[:-1], label= 'old')\n",
    "#plot(new_times, label= 'new')\n",
    "legend()\n",
    "show()"
   ]
  },
  {
   "cell_type": "code",
   "execution_count": 24,
   "metadata": {},
   "outputs": [
    {
     "name": "stdout",
     "output_type": "stream",
     "text": [
      "[False False False False False False False False False False False False\n",
      " False  True False  True  True]\n"
     ]
    }
   ],
   "source": []
  },
  {
   "cell_type": "code",
   "execution_count": 19,
   "metadata": {},
   "outputs": [
    {
     "data": {
      "text/plain": [
       "0.010000000000000009"
      ]
     },
     "execution_count": 19,
     "metadata": {},
     "output_type": "execute_result"
    }
   ],
   "source": [
    "54e-2 - 53e-2"
   ]
  },
  {
   "cell_type": "code",
   "execution_count": null,
   "metadata": {},
   "outputs": [],
   "source": []
  }
 ],
 "metadata": {
  "kernelspec": {
   "display_name": "Python 3",
   "language": "python",
   "name": "python3"
  },
  "language_info": {
   "codemirror_mode": {
    "name": "ipython",
    "version": 3
   },
   "file_extension": ".py",
   "mimetype": "text/x-python",
   "name": "python",
   "nbconvert_exporter": "python",
   "pygments_lexer": "ipython3",
   "version": "3.7.5"
  }
 },
 "nbformat": 4,
 "nbformat_minor": 4
}
