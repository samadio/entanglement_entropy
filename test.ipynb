{
 "cells": [
  {
   "cell_type": "code",
   "execution_count": 1,
   "metadata": {},
   "outputs": [
    {
     "name": "stdout",
     "output_type": "stream",
     "text": [
      "Populating the interactive namespace from numpy and matplotlib\n"
     ]
    }
   ],
   "source": [
    "%pylab inline\n",
    "import scipy.sparse as sp\n",
    "from scipy.linalg import hadamard as hadamard\n",
    "from sympy import isprime as isprime\n",
    "from math import gcd as GCD\n",
    "from scipy.sparse import diags as sparse\n",
    "from scipy.sparse.linalg import eigsh as eigval"
   ]
  },
  {
   "cell_type": "code",
   "execution_count": null,
   "metadata": {},
   "outputs": [],
   "source": [
    "    \"parameters of the system and operators\"\n",
    "\n",
    "    \n",
    "    \"Number to be decomposed\"\n",
    "    N=21\n",
    "    \n",
    "    \"control and target registers size\"\n",
    "    L=math.ceil(math.log2(N))\n",
    "    control_size=2**(2*L)\n",
    "    target_size=2**L\n",
    "    \n",
    "    \n",
    "    \"\"\"\n",
    "    superposition of dimension 2**2L x 2**2L, to be constructed only once.\n",
    "    Avoided memorization of the H_2L Hadamard operator, since it's not sparse.\n",
    "    control_superposition= H^2L |0>\n",
    "    \"\"\"  \n",
    "    control_superposition=np.ones(control_size)/control_size\n",
    "    \n",
    "    print(\"qubits required= \",3*L)"
   ]
  },
  {
   "cell_type": "code",
   "execution_count": null,
   "metadata": {},
   "outputs": [],
   "source": [
    "def why_entanglement_entropy(k,Y,N):\n",
    "    '''\n",
    "    Returns the entanglement entropy up to the k-th computational step S_{k,r}\n",
    "    It uses a lot of useless stuff\n",
    "    Parameters\n",
    "        ----------\n",
    "        N:  Integer\n",
    "            Number to be factorized\n",
    "            \n",
    "        Y : Integer \n",
    "            Randomly sampled in [2,N-1]. It's a coprime of N\n",
    "            \n",
    "        k: Integer\n",
    "           Computational step\n",
    "    '''\n",
    "    \n",
    "    size=2**k\n",
    "    \n",
    "    #nonzero diagonal elements\n",
    "    nonzero=[(Y**m) %N for m in range(0,size)]\n",
    "    \n",
    "    #sparse reduced density matrix\n",
    "    rho_k= sparse(  [nonzero.count(i)/size for i in range(size)] )\n",
    "    \n",
    "    eigvals,_= eigval(rho_k,k=size)\n",
    "    return sum([-l*log2(l) for l in eigvals])"
   ]
  },
  {
   "cell_type": "code",
   "execution_count": null,
   "metadata": {},
   "outputs": [],
   "source": [
    "def entanglement_entropy(k,Y,N):\n",
    "    '''\n",
    "    Since density matrix has only few nonzero diagonal elements,\n",
    "    u can check how many they're and compute directly eigenvalues\n",
    "    '''\n",
    "    if(k>2*ceil(log2(N))):\n",
    "        print(\"does not make sense\")\n",
    "        return -100.\n",
    "    \n",
    "    size=2**k\n",
    "    \n",
    "    #nonzero diagonal elements\n",
    "    nonzero=[]\n",
    "    nonzero.append(1)\n",
    "    m=1\n",
    "    while(((Y**m) % N!=1) and (m<size)):\n",
    "        nonzero.append((Y**m) % N)\n",
    "        m+=1\n",
    "\n",
    "    #nonzero=[(Y**m) %N for m in range(0,size)]\n",
    "    \n",
    "    #order\n",
    "    r=len(nonzero)\n",
    "    \n",
    "    q=int(ceil(size/r))\n",
    "    c=size-q*r\n",
    "\n",
    "    #eigvals=[nonzero.count(i)*1.0/size for i in nonzero[0:order]]\n",
    "    #return -sum([l*log2(l) for l in eigvals])\n",
    "    \n",
    "    return -(r-c)*q/size * log2(q/size)-c*(q+1)/size * log2((q+1)/size)"
   ]
  },
  {
   "cell_type": "code",
   "execution_count": null,
   "metadata": {},
   "outputs": [],
   "source": [
    "def order_finding(N,Y):\n",
    "    \"\"\"\n",
    "        Find the order of Y module N using quantum computation\n",
    "        Parameters\n",
    "        ----------\n",
    "        N:  Integer\n",
    "            Number to be factorized\n",
    "            \n",
    "        Y : Integer \n",
    "            Randomly sampled in [2,N-1]. It's a coprime of N\n",
    "            \n",
    "            \n",
    "    \"\"\"\n",
    "    return 1"
   ]
  },
  {
   "cell_type": "markdown",
   "metadata": {},
   "source": [
    "## ENTANGLEMENT ENTROPY AS A FUNCTION OF COMPUTATIONAL STEP FOR FIXED N##"
   ]
  },
  {
   "cell_type": "code",
   "execution_count": null,
   "metadata": {},
   "outputs": [],
   "source": [
    "'''\n",
    "tests\n",
    "\n",
    "k=2\n",
    "#print(entanglement_entropy(k,13,15))\n",
    "\n",
    "r=4 #order\n",
    "q=floor(2**k/r) #number of complete sequences\n",
    "c=2**k-q*r #elements of the truncated last sequence\n",
    "\n",
    "expected=-(r-c)*q/2**k * log2(q/2**k)-c*(q+1)/2**k * log2((q+1)/2**k)\n",
    "\n",
    "#in case there's no complete sequence, the first term is 0 \n",
    "if(q==0): expected=-c*(q+1)/2**k * log2((q+1)/2**k)\n",
    "\n",
    "#print(expected)\n",
    "\n",
    "'''\n",
    "\n",
    "##Figure 3 emulation: N=15, Y=13\n",
    "\n",
    "L=int(ceil(log2(15)))\n",
    "res=[]\n",
    "for k in range(1,2*L):\n",
    "    res.append(entanglement_entropy(k,13,15))\n",
    "    \n",
    "plot(range(2,2*L+1),res,'-o')"
   ]
  },
  {
   "cell_type": "markdown",
   "metadata": {},
   "source": [
    "## HEATMAP##"
   ]
  },
  {
   "cell_type": "code",
   "execution_count": 3,
   "metadata": {},
   "outputs": [],
   "source": [
    "def prime_power(N):\n",
    "    \"\"\"\n",
    "            Check if the argument N is a prime power, i.e. exist p prime and i integer s.t. p**i=N\n",
    "            If the argument is is a prime power p is returned, otherwise 1 is returned\n",
    "            Parameters\n",
    "            ----------\n",
    "            N:  Integer\n",
    "            Candidate prime power\n",
    "\n",
    "    \"\"\"\n",
    "    \n",
    "    roof=int(ceil(math.log2(N))+1) #integer right after log2(N)\n",
    "    \n",
    "    roots=[(N**(1./i)) for i in range(2,roof)] \n",
    "    \n",
    "    for (i,element) in enumerate(roots):\n",
    "        if (element.is_integer() and isprime(int(element))): #then element**(i+2)=N\n",
    "            return int(element)\n",
    "    return 1\n",
    "       \n",
    "def Lfy(N):\n",
    "    return int(ceil(log2(N)))\n",
    "\n",
    "def heatmap_data():\n",
    "    #odd numbers which are nor primes nor prime powers in [0,2000]: list of Ns\n",
    "    candidates=[(i*2)+1 for i in range(7,1000) if( (not isprime(2*i+1)) and (prime_power(2*i+1)==1) ) ]\n",
    "    return [[(N,Y,entanglement_entropy(2*Lfy(N),Y,N)) for Y in range(2,N) if(GCD(Y,N)==1)] for N in candidates]"
   ]
  },
  {
   "cell_type": "code",
   "execution_count": null,
   "metadata": {},
   "outputs": [],
   "source": [
    "%%time\n",
    "#data=heatmap_data()\n",
    "#30 entries: 16.4 ms,   60: 70ms, 120:  330, 250: 3.34, 500: 46 s, 1000: 13 1/2 min"
   ]
  },
  {
   "cell_type": "code",
   "execution_count": null,
   "metadata": {},
   "outputs": [],
   "source": [
    "import pickle\n",
    "#with open(\"heatmap.txt\", \"wb\") as fp:\n",
    "#    pickle.dump(data, fp)\n",
    "    \n",
    "with open(\"heatmap.txt\", \"rb\") as fp:\n",
    "    newdata = pickle.load(fp)\n",
    "    \n",
    "#newdata==data\n",
    "\n",
    "N_axis=array([x[0] for j in range(len(newdata)) for x in newdata[j]])\n",
    "Y_axis=array([x[1] for j in range(len(newdata)) for x in newdata[j]])\n",
    "S_axis=array([x[2] for j in range(len(newdata)) for x in newdata[j]])"
   ]
  },
  {
   "cell_type": "code",
   "execution_count": null,
   "metadata": {},
   "outputs": [],
   "source": [
    "down,up=[0,len(N_axis)]\n",
    "plt.scatter(N_axis[down:up], S_axis[down:up], c=Y_axis[down:up], marker='s',cmap='binary' ,s=.5)\n",
    "plt.xlabel('N')\n",
    "plt.ylabel('S')\n",
    "plt.show()"
   ]
  },
  {
   "cell_type": "code",
   "execution_count": null,
   "metadata": {},
   "outputs": [],
   "source": [
    "S_max=[np.max(newdata[i],axis=0)[2] for i in range(len(newdata))]\n",
    "N_max=[newdata[i][0][0] for i in range(len(newdata))]\n",
    "\n",
    "plot(N_max[200:400], S_max[200:400])"
   ]
  },
  {
   "cell_type": "markdown",
   "metadata": {},
   "source": [
    "## COMPLETE ALGORITHM WITH CLASSICAL PART##"
   ]
  },
  {
   "cell_type": "code",
   "execution_count": null,
   "metadata": {},
   "outputs": [],
   "source": [
    "def shor(N):\n",
    "    \"\"\"\n",
    "            Find a non trivial divisor of N\n",
    "            Parameters\n",
    "            ----------\n",
    "            N:  Integer\n",
    "                Number to be factorized\n",
    "\n",
    "    \"\"\"\n",
    "\n",
    "    if(N%2==0): return 2\n",
    "    if isprime(N):\n",
    "        print(N,\" is a prime number\")\n",
    "        return 1\n",
    "    \n",
    "    p=prime_power(N)\n",
    "    if(p!=1): return p\n",
    "    \n",
    "    #random extraction\n",
    "    \n",
    "    #candidates=list(range(3,N))\n",
    "    #Y=random.choice(candidates)\n",
    "    \n",
    "    Y=randint(2,N)\n",
    "    used=[]\n",
    "    while 1:\n",
    "        a=GCD(Y,N)\n",
    "        if (a>1): return a\n",
    "        \n",
    "        #N,Y coprimes\n",
    "        \n",
    "        r=order_finding(N,Y)\n",
    "        if(r%2==0):\n",
    "            s=r/2.\n",
    "            \n",
    "            factor=(Y**s+1% N)\n",
    "            if(factor!=0):\n",
    "                a=GCD(factor,N)\n",
    "                if ( a>1 ): return a\n",
    "                else: return GCD(Y**s-1 %N,N)\n",
    "        \n",
    "        #this Y is stored as used and a new Y is extracted. The whole while() is repeated\n",
    "        used.append(Y)\n",
    "        Y=randint(2,N)\n",
    "        while(Y in used):\n",
    "            Y=randint(2,N)\n",
    "            \n",
    "        #candidates.remove(Y)\n",
    "        #Y=random.choice(candidates)"
   ]
  },
  {
   "cell_type": "code",
   "execution_count": null,
   "metadata": {},
   "outputs": [],
   "source": [
    "len(bin(1024)[2:])"
   ]
  },
  {
   "cell_type": "code",
   "execution_count": null,
   "metadata": {},
   "outputs": [],
   "source": []
  }
 ],
 "metadata": {
  "kernelspec": {
   "display_name": "Python 3",
   "language": "python",
   "name": "python3"
  },
  "language_info": {
   "codemirror_mode": {
    "name": "ipython",
    "version": 3
   },
   "file_extension": ".py",
   "mimetype": "text/x-python",
   "name": "python",
   "nbconvert_exporter": "python",
   "pygments_lexer": "ipython3",
   "version": "3.7.4"
  }
 },
 "nbformat": 4,
 "nbformat_minor": 2
}
