{
 "cells": [
  {
   "cell_type": "code",
   "execution_count": null,
   "metadata": {},
   "outputs": [],
   "source": [
    "%pylab inline\n",
    "import qiskit as qt\n",
    "from qiskit.aqua.components.iqfts import Standard as IQFT\n",
    "simulator = qt.Aer.get_backend('statevector_simulator')\n",
    "from scipy.sparse import coo_matrix"
   ]
  },
  {
   "cell_type": "code",
   "execution_count": null,
   "metadata": {},
   "outputs": [],
   "source": [
    "#initialization test\n",
    "dim = 2\n",
    "control_register = qt.QuantumRegister(2 * dim, 'control')\n",
    "target_register = qt.QuantumRegister(dim, 'target')\n",
    "\n",
    "state = array([rand() for i in range(2 ** (3 * dim))])\n",
    "state = state / sqrt(np.sum([i**2 for i in state]))\n",
    "\n",
    "circuit = qt.QuantumCircuit(control_register,target_register,name='mine')\n",
    "circuit.initialize(array(state),circuit.qubits)\n",
    "returned_state = qt.execute(circuit,simulator,shots=1).result()\n",
    "print(returned_state.data())"
   ]
  },
  {
   "cell_type": "code",
   "execution_count": null,
   "metadata": {},
   "outputs": [],
   "source": [
    "constructor = IQFT(control_register)\n",
    "IQFT_circuit = qt.QuantumCircuit(control_register,target_register)\n",
    "constructor.construct_circuit(mode='circuit', circuit=IQFT_circuit, qubits=control_register)\n",
    "IQFT_circuit.draw()\n",
    "circuit = IQFT_circuit#circuit.combine(IQFT_circuit)\n",
    "\n",
    "circuit.draw('mpl')"
   ]
  },
  {
   "cell_type": "code",
   "execution_count": null,
   "metadata": {},
   "outputs": [],
   "source": [
    "def nBitQFT(q,c,n):\n",
    "    circuit = qt.QuantumCircuit(q,c)\n",
    "    #\n",
    "    # We start with the most significant bit\n",
    "    #\n",
    "    for k in range(n):\n",
    "        j = n - k\n",
    "        # Add the Hadamard to qubit j-1\n",
    "        circuit.h(q[j-1])\n",
    "        #\n",
    "        # there is one conditional rotation for\n",
    "        # each qubit with lower significance\n",
    "        for i in reversed(range(j-1)):\n",
    "            circuit.cu1(2*np.pi/2**(j-i),q[i], q[j-1])\n",
    "    #\n",
    "    # Finally we need to swap qubits\n",
    "    #\n",
    "    for i in range(n//2):\n",
    "        circuit.swap(q[i], q[n-i-1])\n",
    "    return circuit"
   ]
  },
  {
   "cell_type": "code",
   "execution_count": null,
   "metadata": {},
   "outputs": [],
   "source": [
    "n=3\n",
    "q = qt.QuantumRegister(n,\"x\")\n",
    "c = qt.ClassicalRegister(n,\"c\")\n",
    "circuit = nBitQFT(q,c,n)\n",
    "circuit.inverse().draw('mpl')"
   ]
  },
  {
   "cell_type": "code",
   "execution_count": null,
   "metadata": {},
   "outputs": [],
   "source": []
  },
  {
   "cell_type": "code",
   "execution_count": null,
   "metadata": {},
   "outputs": [],
   "source": [
    "#initialization order test: now it's all fine\n",
    "L = 1\n",
    "\n",
    "control_register = qt.QuantumRegister(2 * L, 'control')\n",
    "target_register = qt.QuantumRegister(L, 'target')\n",
    "#classical_register = qt.ClassicalRegister(2)\n",
    "\n",
    "circuit = qt.QuantumCircuit(control_register, target_register)\n",
    "\n",
    "# 80 percent 001, 20 of 010\n",
    "circuit.initialize([0,2/sqrt(5),1/sqrt(5),0,0,0,0,0], [i for i in reversed(circuit.qubits)])\n",
    "\n",
    "\n",
    "job = qt.execute(circuit, simulator, shots=1)\n",
    "result = job.result()\n",
    "#print(result)\n",
    "print(result.results[0])\n",
    "print(result.get_statevector('circuit22'))\n",
    "# Grab results from the job\n",
    "#result = job.result()\n",
    "\n",
    "# Returns counts\n",
    "#counts = result.get_counts()\n",
    "#print(result.get_statevector('id')) \n",
    "del circuit"
   ]
  },
  {
   "cell_type": "code",
   "execution_count": null,
   "metadata": {},
   "outputs": [],
   "source": [
    "from qiskit.aqua.circuits import FourierTransformCircuits as IQFT\n",
    "\n",
    "L = 1\n",
    "circuit = qt.QuantumCircuit(control_register,target_register)\n",
    "circuit.initialize(np.array([0,0,1/2,0,1/2,0,1/2,1/2]), [i for i in reversed(circuit.qubits)])\n",
    "\n",
    "IQFT.construct_circuit(circuit=circuit, qubits=circuit.qubits[:2 * L], inverse=True)\n",
    "circuit.draw('mpl')"
   ]
  },
  {
   "cell_type": "code",
   "execution_count": null,
   "metadata": {},
   "outputs": [],
   "source": [
    "def decimal_to_binary(number: int, length: int) -> str:\n",
    "    \"\"\"\n",
    "        Returns binary representation of number as string of fixed length\n",
    "        ----------\n",
    "        Example:\n",
    "        decimal_to_binary(2,5) will yield \"00010\"\n",
    "\n",
    "    :param number: decimal number to be converted in binary form\n",
    "    :param length:  minimum length of returned string\n",
    "    :return: binary representation of decimal as string of determined length\n",
    "    \"\"\"\n",
    "\n",
    "    return np.binary_repr(number, length)\n",
    "\n",
    "\n",
    "def to_decimal(string_list: list) -> int:\n",
    "    \"\"\"\n",
    "        converts a list of char representing a binary number and returns its decimal representation as integer\n",
    "     :param    string_list: list of binary chars representing an integer number\n",
    "     :return:  decimal representation of string_list\n",
    "    \"\"\"\n",
    "\n",
    "    string = \"\".join(string_list)\n",
    "    return int(string, 2)\n",
    "\n",
    "\n",
    "def invert_qubits_state(state: coo_matrix, length: int) -> coo_matrix:\n",
    "    new_idx = range(2 ** length)\n",
    "    result = np.array(list(map(lambda i: to_decimal(decimal_to_binary(i, length)[::-1]), new_idx)), dtype=np.int64)\n",
    "    return state.toarray().reshape((2 ** length),)[result]"
   ]
  },
  {
   "cell_type": "code",
   "execution_count": null,
   "metadata": {},
   "outputs": [],
   "source": [
    "from qiskit.aqua.circuits import FourierTransformCircuits as QFT\n",
    "L = 2\n",
    "current_state = coo_matrix(np.ones(2 ** (3 * L)) / sqrt(2 ** (3*L)))\n",
    "circuit = qt.QuantumCircuit(3 * L)\n",
    "circuit.initialize(invert_qubits_state(current_state, 3 * L), circuit.qubits)\n",
    "circuit = QFT.construct_circuit(circuit=circuit, qubits=circuit.qubits[L:3*L], inverse=True, do_swaps=True)\n",
    "circuit.draw('mpl')"
   ]
  },
  {
   "cell_type": "code",
   "execution_count": 1,
   "metadata": {},
   "outputs": [
    {
     "name": "stdout",
     "output_type": "stream",
     "text": [
      "[ 0.70710678-8.65956056e-17j -0.70710678+8.65956056e-17j\n",
      "  0.        +0.00000000e+00j  0.        +0.00000000e+00j\n",
      "  0.        +0.00000000e+00j  0.        +0.00000000e+00j\n",
      "  0.        +0.00000000e+00j  0.        +0.00000000e+00j]\n"
     ]
    }
   ],
   "source": [
    "import qiskit as qt\n",
    "import numpy as np\n",
    "\n",
    "simulator = qt.Aer.get_backend('statevector_simulator')\n",
    "\n",
    "circ = qt.QuantumCircuit(3)\n",
    "#state = 001\n",
    "state = np.array([0,1,0,0,0,0,0,0])\n",
    "circ.initialize(state,circ.qubits)\n",
    "circ.h(0)\n",
    "res = qt.execute(circ, simulator).result().get_statevector(circ)\n",
    "print(res)"
   ]
  },
  {
   "cell_type": "code",
   "execution_count": null,
   "metadata": {},
   "outputs": [],
   "source": []
  }
 ],
 "metadata": {
  "kernelspec": {
   "display_name": "Python 3",
   "language": "python",
   "name": "python3"
  },
  "language_info": {
   "codemirror_mode": {
    "name": "ipython",
    "version": 3
   },
   "file_extension": ".py",
   "mimetype": "text/x-python",
   "name": "python",
   "nbconvert_exporter": "python",
   "pygments_lexer": "ipython3",
   "version": "3.7.5"
  }
 },
 "nbformat": 4,
 "nbformat_minor": 4
}
