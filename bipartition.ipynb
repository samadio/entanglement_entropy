{
 "cells": [
  {
   "cell_type": "code",
   "execution_count": 1,
   "metadata": {},
   "outputs": [
    {
     "name": "stdout",
     "output_type": "stream",
     "text": [
      "Populating the interactive namespace from numpy and matplotlib\n"
     ]
    }
   ],
   "source": [
    "%pylab inline\n",
    "import scipy.sparse as sp\n",
    "from scipy.linalg import hadamard as hadamard\n",
    "from sympy import isprime as isprime\n",
    "from math import gcd as GCD\n",
    "from scipy.sparse import diags as sparse\n",
    "from scipy.sparse.linalg import eigsh as eigval\n",
    "from scipy.sparse.coo import coo_matrix as sparsemat"
   ]
  },
  {
   "cell_type": "code",
   "execution_count": 2,
   "metadata": {},
   "outputs": [
    {
     "name": "stdout",
     "output_type": "stream",
     "text": [
      "qubits required=  15\n"
     ]
    }
   ],
   "source": [
    "    \"parameters of the system and operators\"\n",
    "\n",
    "    \n",
    "    \"Number to be decomposed\"\n",
    "    N=21\n",
    "    \n",
    "    \"control and target registers size\"\n",
    "    L=math.ceil(math.log2(N))\n",
    "    control_size=2**(2*L)\n",
    "    target_size=2**L\n",
    "    \n",
    "    \n",
    "    \"\"\"\n",
    "    superposition of dimension 2**2L x 2**2L, to be constructed only once.\n",
    "    Avoided memorization of the H_2L Hadamard operator, since it's not sparse.\n",
    "    control_superposition= H^2L |0>\n",
    "    \"\"\"  \n",
    "    control_superposition=np.ones(control_size)/control_size\n",
    "    \n",
    "    print(\"qubits required= \",3*L)"
   ]
  },
  {
   "cell_type": "code",
   "execution_count": 60,
   "metadata": {},
   "outputs": [],
   "source": [
    "def find_coprime(N):     \n",
    "    \"\"\"\n",
    "            Find a coprime of N for N>2\n",
    "            Parameters\n",
    "            ----------\n",
    "            N:  Integer\n",
    "                Number to find the coprime of\n",
    "\n",
    "    \"\"\"\n",
    "    if(N<3):\n",
    "        raise ValueError(\"Illegal argument: coprimes exist for N>2\")\n",
    "    Y=randint(2,N)\n",
    "    used=[]\n",
    "    while 1:\n",
    "        a=GCD(Y,N)\n",
    "        if (a>1):\n",
    "            #this Y is not coprime\n",
    "            used.append(Y)\n",
    "            while(Y in used):\n",
    "                Y=randint(2,N)\n",
    "        else: return Y\n",
    "\n",
    "        \n",
    "def decimal_to_state(m,nqubit):\n",
    "    '''\n",
    "        Return binary representation of m as array of nqubit qubits\n",
    "\n",
    "            Parameters\n",
    "            ----------                \n",
    "            m:   Integer\n",
    "                number to be representend in binary form\n",
    "                \n",
    "            nqubit: Integer\n",
    "                Total number of qubits used for representation\n",
    "                    \n",
    "    '''\n",
    "    \n",
    "    arr=binary_repr(m)\n",
    "    arr=[int(i) for i in arr]\n",
    "    if(len(arr)>nqubit):\n",
    "        raise ValueError(str(nqubit)+\" are not enough qubits to store the number \"+str(m))\n",
    "    if(len(arr)==nqubit): return arr\n",
    "    return list(np.zeros(nqubit-len(arr),dtype=int16))+ arr\n",
    "\n",
    "\n",
    "def to_decimal(array):\n",
    "    '''\n",
    "        Return decimal representation of the array storing a number in binary form\n",
    "\n",
    "        Example: input [1,0,1,0,1] returns 21 \n",
    "            Parameters\n",
    "            ----------                \n",
    "            array: List\n",
    "                array containing binary representation of a number\n",
    "                \n",
    "                    \n",
    "    '''\n",
    "\n",
    "    size=len(array)\n",
    "    return int(np.sum([array[i] *2**(size-i-1)  for i in range(size)]))"
   ]
  },
  {
   "cell_type": "code",
   "execution_count": 151,
   "metadata": {},
   "outputs": [],
   "source": [
    "def notchosen(chosen,system_size):\n",
    "    \"\"\"\n",
    "            Return array containing the qubit NOT in the partition\n",
    "            \n",
    "            Parameters\n",
    "            ----------                \n",
    "            chosen:   List\n",
    "                List of the qubits selected as partition, in the form [1,3,7,..]\n",
    "                \n",
    "            system_size: Integer\n",
    "                Total number of qubits\n",
    "                    \n",
    "    \"\"\"\n",
    "    \n",
    "    notchosen=list(set(list(range(system_size)))-set(chosen))\n",
    "    notchosen.sort()\n",
    "    return notchosen\n",
    "\n",
    "\n",
    "\n",
    "def bipartition_state(in_idx,out_idx,chosen,notchosen):\n",
    "    \"\"\"\n",
    "            Return array representing index of the state expressed through in_idx and out_idx\n",
    "            \n",
    "            Parameters\n",
    "            ----------\n",
    "            in_index:  Integer\n",
    "                Index of the state restricted on the partition in decimal notation\n",
    "                \n",
    "            out_idx:   Integer\n",
    "                Index of the state restricted on the remaining part in decimal notation    \n",
    "                       \n",
    "            chosen:   List\n",
    "                List of the qubits selected as partition, in the form [1,3,7,..]\n",
    "                \n",
    "            notchosen:   List\n",
    "                List of the qubits not selected as partition, in the form [2,4,5,6,8,..]\n",
    "                    \n",
    "    \"\"\"\n",
    "        \n",
    "    part_size=size(chosen)\n",
    "    out_size=size(notchosen)\n",
    "    system_size=part_size+out_size\n",
    "    \n",
    "    part_state=list(map(lambda x, y:(x,y), decimal_to_state(in_idx,part_size), chosen))\n",
    "    out_state=list(map(lambda x, y:(x,y), decimal_to_state(out_idx,out_size), notchosen))\n",
    "   \n",
    "    total=part_state+out_state\n",
    "    total.sort(key=lambda x: x[1])\n",
    "    return [elem[0] for elem in total]\n",
    "    \n",
    "def psi(k,Y,N):\n",
    "    L=int(ceil(log2(N)))\n",
    "    if(k>2*L):\n",
    "        raise ValueError(str(k)+\"th computational step does not make sense in a \"+str(2*L)+\" qubits control register\")\n",
    "    \n",
    "    data=np.ones(2**k,dtype=int8)\n",
    "    row=[m*2**L+(Y**m%N) for m in range(2**k)]\n",
    "    col=np.zeros(2**k,dtype=int8)\n",
    "    psi=sparsemat((data,(row,col)),shape=(2**(k+L),1))\n",
    "    return (psi/2**k).tocsc()\n",
    "\n",
    "\n",
    "\n",
    "def create_W(psi,chosen):    \n",
    "    size=int(ceil(log2(shape(psi)[0])))\n",
    "    chosen_size=len(chosen)\n",
    "    not_chosen=notchosen(chosen,size)\n",
    "    notchosen_size=size-chosen_size\n",
    "    W=[ [   psi[to_decimal(bipartition_state(i,j,chosen,not_chosen)),0] for j in range(2**notchosen_size)]for i in range(2**chosen_size) ]\n",
    "    return sparsemat(W,shape=(2**chosen_size,2**notchosen_size))"
   ]
  },
  {
   "cell_type": "code",
   "execution_count": 159,
   "metadata": {},
   "outputs": [
    {
     "name": "stdout",
     "output_type": "stream",
     "text": [
      "CPU times: user 3min 15s, sys: 756 ms, total: 3min 15s\n",
      "Wall time: 3min 15s\n"
     ]
    }
   ],
   "source": [
    "%%time\n",
    "kloc,Yloc,Nloc=(10,21,2000)\n",
    "ps=psi(kloc,Yloc,Nloc)\n",
    "W=create_W(ps,[0,1])\n",
    "#k=6, 13 s, k=7 24 s, k=8 49, k=10 circa 3 min e 15 sec"
   ]
  },
  {
   "cell_type": "code",
   "execution_count": null,
   "metadata": {},
   "outputs": [],
   "source": []
  },
  {
   "cell_type": "code",
   "execution_count": 80,
   "metadata": {},
   "outputs": [
    {
     "name": "stdout",
     "output_type": "stream",
     "text": [
      "[[3 0 1 0]\n",
      " [0 2 0 0]\n",
      " [0 0 0 0]\n",
      " [0 0 0 1]]\n"
     ]
    },
    {
     "data": {
      "text/plain": [
       "array([[4, 0, 1, 0],\n",
       "       [0, 2, 0, 0],\n",
       "       [0, 0, 0, 0],\n",
       "       [0, 0, 0, 1]], dtype=int64)"
      ]
     },
     "execution_count": 80,
     "metadata": {},
     "output_type": "execute_result"
    }
   ],
   "source": [
    "#coo_matrix((1, m*L+Y**m%N))\n",
    "row  = np.array([0, 0, 1, 3, 1, 0, 0])\n",
    "col  = np.array([0, 2, 1, 3, 1, 0, 0])\n",
    "data = np.array([1, 1, 1, 1, 1, 1, 1])\n",
    "coo = sparsemat((data, (row, col)), shape=(4, 4))\n",
    "\n",
    "coo2=sparsemat( ([1],([0],[0])), shape=(4,4)    )\n",
    "\n",
    "print(coo.toarray())\n",
    "coo2.toarray()\n",
    "\n",
    "(coo+coo2).toarray()"
   ]
  },
  {
   "cell_type": "code",
   "execution_count": 8,
   "metadata": {},
   "outputs": [
    {
     "name": "stdout",
     "output_type": "stream",
     "text": [
      "[[1]\n",
      " [0]\n",
      " [0]\n",
      " [0]]\n",
      "[[0]\n",
      " [1]\n",
      " [0]\n",
      " [0]]\n"
     ]
    }
   ],
   "source": [
    "print(   sparsemat( ([1],([0],[0])), shape=(4,1)    )        .toarray() )\n",
    "\n",
    "print(sparsemat(  ([1],([3**2%4],[0])), shape=(2**2,1)).toarray())"
   ]
  },
  {
   "cell_type": "code",
   "execution_count": 9,
   "metadata": {},
   "outputs": [
    {
     "name": "stdout",
     "output_type": "stream",
     "text": [
      "[0.0, 0.0, 1, 0]\n",
      "[0.0, 1, 0]\n"
     ]
    },
    {
     "data": {
      "text/plain": [
       "array([0., 0., 0., 0., 0., 0., 0., 1., 0., 0., 0., 0.])"
      ]
     },
     "execution_count": 9,
     "metadata": {},
     "output_type": "execute_result"
    }
   ],
   "source": [
    "print(decimal_to_state(2,4))\n",
    "print(decimal_to_state(2,3))\n",
    "np.kron(decimal_to_state(2,4) ,decimal_to_state (2,3)  )"
   ]
  },
  {
   "cell_type": "code",
   "execution_count": 74,
   "metadata": {},
   "outputs": [],
   "source": [
    "matr=array([array(range(8*i,8*(i+1))) for i in range(0,8)])"
   ]
  },
  {
   "cell_type": "code",
   "execution_count": 148,
   "metadata": {},
   "outputs": [
    {
     "data": {
      "text/plain": [
       "10.965784284662087"
      ]
     },
     "execution_count": 148,
     "metadata": {},
     "output_type": "execute_result"
    }
   ],
   "source": [
    "log2(2000)"
   ]
  },
  {
   "cell_type": "code",
   "execution_count": 168,
   "metadata": {},
   "outputs": [
    {
     "name": "stdout",
     "output_type": "stream",
     "text": [
      "[[0 1 0 1]\n",
      " [0 1 0 1]]\n"
     ]
    }
   ],
   "source": [
    "test_psi=sparsemat([[0],[0],[1],[1],[0],[0],[1],[1]]).tocsc()\n",
    "shape(test_psi)\n",
    "print(create_W(test_psi,[2]).toarray())"
   ]
  },
  {
   "cell_type": "code",
   "execution_count": null,
   "metadata": {},
   "outputs": [],
   "source": []
  }
 ],
 "metadata": {
  "kernelspec": {
   "display_name": "Python 3",
   "language": "python",
   "name": "python3"
  },
  "language_info": {
   "codemirror_mode": {
    "name": "ipython",
    "version": 3
   },
   "file_extension": ".py",
   "mimetype": "text/x-python",
   "name": "python",
   "nbconvert_exporter": "python",
   "pygments_lexer": "ipython3",
   "version": "3.7.4"
  }
 },
 "nbformat": 4,
 "nbformat_minor": 2
}
