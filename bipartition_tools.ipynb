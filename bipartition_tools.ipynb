{
 "cells": [
  {
   "cell_type": "code",
   "execution_count": 1,
   "metadata": {},
   "outputs": [
    {
     "name": "stdout",
     "output_type": "stream",
     "text": [
      "Populating the interactive namespace from numpy and matplotlib\n"
     ]
    }
   ],
   "source": [
    "%pylab inline\n",
    "from scipy.linalg import hadamard as hadamard\n",
    "from sympy import isprime as isprime\n",
    "from math import gcd as GCD\n",
    "from scipy.sparse.coo import coo_matrix as sparsemat\n",
    "from scipy.linalg import eigvalsh as eigenval\n",
    "from scipy.sparse.linalg import eigsh as sparse_eigenval\n",
    "from scipy.sparse.linalg import svds as sparsesvd"
   ]
  },
  {
   "cell_type": "code",
   "execution_count": 2,
   "metadata": {},
   "outputs": [
    {
     "name": "stdout",
     "output_type": "stream",
     "text": [
      "qubits required=  15\n"
     ]
    }
   ],
   "source": [
    "    \"parameters of the system and operators\"\n",
    "\n",
    "    \n",
    "    \"Number to be decomposed\"\n",
    "    N=21\n",
    "    \n",
    "    \"control and target registers size\"\n",
    "    L=math.ceil(math.log2(N))\n",
    "    control_size=2**(2*L)\n",
    "    target_size=2**L\n",
    "    \n",
    "    \n",
    "    \"\"\"\n",
    "    superposition of dimension 2**2L x 2**2L, to be constructed only once.\n",
    "    Avoided memorization of the H_2L Hadamard operator, since it's not sparse.\n",
    "    control_superposition= H^2L |0>\n",
    "    \"\"\"  \n",
    "    control_superposition=np.ones(control_size)/control_size\n",
    "    \n",
    "    print(\"qubits required= \",3*L)"
   ]
  },
  {
   "cell_type": "code",
   "execution_count": 3,
   "metadata": {},
   "outputs": [],
   "source": [
    "def find_coprime(N):     \n",
    "    \"\"\"\n",
    "            Find a coprime of N for N>2\n",
    "            Parameters\n",
    "            ----------\n",
    "            N:  Integer\n",
    "                Number to find the coprime of\n",
    "\n",
    "    \"\"\"\n",
    "    if(N<3):\n",
    "        raise ValueError(\"Illegal argument: coprimes exist for N>2\")\n",
    "    Y=randint(2,N)\n",
    "    used=[]\n",
    "    while 1:\n",
    "        a=GCD(Y,N)\n",
    "        if (a>1):\n",
    "            #this Y is not coprime\n",
    "            used.append(Y)\n",
    "            while(Y in used):\n",
    "                Y=randint(2,N)\n",
    "        else: return Y\n",
    "\n",
    "        \n",
    "def decimal_to_state(m,nqubit):\n",
    "    '''\n",
    "        Return binary representation of m as array of nqubit qubits\n",
    "\n",
    "            Parameters\n",
    "            ----------                \n",
    "            m:   Integer\n",
    "                number to be representend in binary form\n",
    "                \n",
    "            nqubit: Integer\n",
    "                Total number of qubits used for representation\n",
    "                    \n",
    "    '''\n",
    "    \n",
    "    arr=binary_repr(m)\n",
    "    arr=[int(i) for i in arr]\n",
    "    if(len(arr)>nqubit):\n",
    "        raise ValueError(str(nqubit)+\" are not enough qubits to store the number \"+str(m))\n",
    "    if(len(arr)==nqubit): return arr\n",
    "    return list(np.zeros(nqubit-len(arr),dtype=int16))+ arr\n",
    "\n",
    "\n",
    "def to_decimal(array):\n",
    "    '''\n",
    "        Return decimal representation of the array storing a number in binary form\n",
    "\n",
    "        Example: input [1,0,1,0,1] returns 21 \n",
    "            Parameters\n",
    "            ----------                \n",
    "            array: List\n",
    "                array containing binary representation of a number\n",
    "                \n",
    "                    \n",
    "    '''\n",
    "\n",
    "    size=len(array)\n",
    "    return int(np.sum([array[i] *2**(size-i-1)  for i in range(size)]))"
   ]
  },
  {
   "cell_type": "code",
   "execution_count": 4,
   "metadata": {},
   "outputs": [],
   "source": [
    "def notchosen(chosen,system_size):\n",
    "    \"\"\"\n",
    "            Return array containing the qubit NOT in the partition\n",
    "            \n",
    "            Parameters\n",
    "            ----------                \n",
    "            chosen:   List\n",
    "                List of the qubits selected as partition, in the form [1,3,7,..]\n",
    "                \n",
    "            system_size: Integer\n",
    "                Total number of qubits\n",
    "                    \n",
    "    \"\"\"\n",
    "    \n",
    "    notchosen=list(set(list(range(system_size)))-set(chosen))\n",
    "    notchosen.sort()\n",
    "    return notchosen\n",
    "\n",
    "\n",
    "\n",
    "def bipartition_state(in_idx,out_idx,chosen,notchosen):\n",
    "    \"\"\"\n",
    "            Return array representing index of the state expressed through in_idx and out_idx\n",
    "            \n",
    "            Parameters\n",
    "            ----------\n",
    "            in_index:  Integer\n",
    "                Index of the state restricted on the partition in decimal notation\n",
    "                \n",
    "            out_idx:   Integer\n",
    "                Index of the state restricted on the remaining part in decimal notation    \n",
    "                       \n",
    "            chosen:   List\n",
    "                List of the qubits selected as partition, in the form [1,3,7,..]\n",
    "                \n",
    "            notchosen:   List\n",
    "                List of the qubits not selected as partition, in the form [2,4,5,6,8,..]\n",
    "                    \n",
    "    \"\"\"\n",
    "        \n",
    "    part_size=size(chosen)\n",
    "    out_size=size(notchosen)\n",
    "    system_size=part_size+out_size\n",
    "    \n",
    "    part_state=list(map(lambda x, y:(x,y), decimal_to_state(in_idx,part_size), chosen))\n",
    "    out_state=list(map(lambda x, y:(x,y), decimal_to_state(out_idx,out_size), notchosen))\n",
    "   \n",
    "    total=part_state+out_state\n",
    "    total.sort(key=lambda x: x[1])\n",
    "    return [elem[0] for elem in total]\n",
    "    \n",
    "def psi(k,Y,N):\n",
    "    L=int(ceil(log2(N)))\n",
    "    if(k>2*L):\n",
    "        raise ValueError(str(k)+\"th computational step does not make sense in a \"+str(2*L)+\" qubits control register\")\n",
    "    \n",
    "    data=np.ones(2**k,dtype=int8)\n",
    "    row=[m*2**L+(Y**m%N) for m in range(2**k)]\n",
    "    col=np.zeros(2**k,dtype=int8)\n",
    "    psi=sparsemat((data,(row,col)),shape=(2**(k+L),1))\n",
    "    return (psi/2**k).tocsc()\n",
    "\n",
    "\n",
    "\n",
    "def create_W_slow(psi,chosen):    \n",
    "    size=int(ceil(log2(shape(psi)[0])))\n",
    "    chosen_size=len(chosen)\n",
    "    if(size<max(chosen)):\n",
    "        raise ValueError(str(max(chosen))+ 'qubit not present in a '+str(size)+\" qubits system\")\n",
    "\n",
    "    not_chosen=notchosen(chosen,size)\n",
    "    notchosen_size=size-chosen_size\n",
    "    W=[ [   psi[to_decimal(bipartition_state(i,j,chosen,not_chosen)),0] for j in range(2**notchosen_size)]for i in range(2**chosen_size) ]\n",
    "    return sparsemat(W,shape=(2**chosen_size,2**notchosen_size))"
   ]
  },
  {
   "cell_type": "code",
   "execution_count": 5,
   "metadata": {},
   "outputs": [
    {
     "name": "stdout",
     "output_type": "stream",
     "text": [
      "CPU times: user 25.3 ms, sys: 0 ns, total: 25.3 ms\n",
      "Wall time: 28.7 ms\n"
     ]
    }
   ],
   "source": [
    "%%time\n",
    "kloc,Yloc,Nloc=(2,20,21)\n",
    "ps=psi(kloc,Yloc,Nloc)\n",
    "#print([j for j,i in enumerate(ps.toarray()) if i!=0])\n",
    "W=create_W_slow(ps,[0,2])\n",
    "#k=6, 13 s, k=7 24 s, k=8 49, k=10 circa 3 min e 15 sec"
   ]
  },
  {
   "cell_type": "code",
   "execution_count": 96,
   "metadata": {},
   "outputs": [],
   "source": [
    "def create_W(k,Y,N,chosen):\n",
    "    '''\n",
    "    creates W directly\n",
    "    \n",
    "    '''\n",
    "    \n",
    "    L=int(ceil(log2(N)))\n",
    "    if(k>2*L):\n",
    "        raise ValueError(str(k)+\"th computational step does not make sense in a \"+str(2*L)+\" qubits control register\")\n",
    "    \n",
    "    #nonzero elements of psi in binary form\n",
    "    nonzeros=[decimal_to_state(m*2**L+(Y**m%N),k+L) for m in range(2**k)]\n",
    "    not_chosen=notchosen(chosen,k+L)  \n",
    "\n",
    "    indexes=[ (to_decimal(split_components(i,chosen)),to_decimal((split_components(i,not_chosen)))) for i in nonzeros]\n",
    "    row=[elem[0] for elem in indexes]\n",
    "    col=[elem[1] for elem in indexes]\n",
    "    data=np.ones(2**k)/sqrt(2**k)\n",
    "    \n",
    "    return sparsemat((data,(row,col)), shape=(2**len(chosen),2**len(not_chosen))    ).tocsc()\n",
    "\n",
    "def split_components(array,chosen):\n",
    "    '''\n",
    "    Given an input array and selected components returns two arrays.\n",
    "    The first array contains only the chosen components and the other the remainders\n",
    "    '''\n",
    "    \n",
    "    if( max(chosen) not in range(len(array)))  :\n",
    "        raise ValueError('the chosen '+str(max(chosen))+' bit is not present in a '+str(len(array))+' bits register')\n",
    "    return [array[i] for i in chosen]\n",
    "\n",
    "def entanglement_entropy(W):\n",
    "    if(shape(W)[0]<shape(W)[1]):\n",
    "        A=dot(W,W.T)\n",
    "    else:\n",
    "        A=dot(W.T,W)\n",
    "    \n",
    "    eigs=eigenval(A.toarray())\n",
    "    return -np.sum([i*log2(i) for i in eigs if i>0])\n",
    "\n",
    "def entanglement_entropy_svd(W):\n",
    "    eigs=(numpy.linalg.svd(W.toarray(),compute_uv=False,full_matrices=False))**2\n",
    "    return -np.sum([i*log2(i) for i in eigs if i>0])\n",
    "\n",
    "def entanglement_entropy_sparse(W):\n",
    "    if(shape(W)[0]<shape(W)[1]):\n",
    "        A=dot(W,W.T)\n",
    "    else:\n",
    "        A=dot(W.T,W)\n",
    "    \n",
    "    eigs=sparse_eigenval(A,k=shape(A)[0]-1,which='LM',return_eigenvectors=False)\n",
    "    return -np.sum([i*np.log2(i) for i in eigs if i>0])\n",
    "\n",
    "def entanglement_entropy_svd_sparse(W):\n",
    "    eigs=sparsesvd(W,k=min(shape(W))-1,which='LM',return_singular_vectors=False, tol=1e-16)\n",
    "    eigs=eigs*eigs\n",
    "    return -np.sum([i*math.log2(i) for i in eigs if i>0])"
   ]
  },
  {
   "cell_type": "markdown",
   "metadata": {},
   "source": [
    "Hp: A=W.T * W is Hermitian.\n",
    "Eigenvals of A"
   ]
  },
  {
   "cell_type": "code",
   "execution_count": 100,
   "metadata": {},
   "outputs": [
    {
     "name": "stdout",
     "output_type": "stream",
     "text": [
      "CPU times: user 7.26 s, sys: 0 ns, total: 7.26 s\n",
      "Wall time: 7.26 s\n"
     ]
    }
   ],
   "source": [
    "%%time\n",
    "#with eigvalsh (hermitian) N=39 needs 6.5sec, N=55 needs 12sec,N=99 needs 6 mins adn 15 sec\n",
    "N=39  #39 candidate[4]\n",
    "k=2*int(ceil(log2(N)))\n",
    "new_S1=[entanglement_entropy(create_W(k,Y,N,[i for i in range(k)])) for Y in range(2,N) if(GCD(Y,N)==1)]"
   ]
  },
  {
   "cell_type": "markdown",
   "metadata": {},
   "source": [
    "SVD of W"
   ]
  },
  {
   "cell_type": "code",
   "execution_count": 101,
   "metadata": {},
   "outputs": [
    {
     "name": "stdout",
     "output_type": "stream",
     "text": [
      "CPU times: user 11.8 s, sys: 288 ms, total: 12.1 s\n",
      "Wall time: 7.64 s\n"
     ]
    }
   ],
   "source": [
    "%%time\n",
    "#with svd (hermitian) N=39 needs 7.1sec, N=55 needs 12sec  ,N=99 needs 6 mins and 13 sec\n",
    "N=39                 #39 candidate[4],   55 candidate[7],  99 candidate[19]\n",
    "k=2*int(ceil(log2(N)))\n",
    "new_S2=[entanglement_entropy_svd(create_W(k,Y,N,[i for i in range(k)])) for Y in range(2,N) if(GCD(Y,N)==1)]"
   ]
  },
  {
   "cell_type": "markdown",
   "metadata": {},
   "source": [
    "Hp: A Hermitian.  \n",
    "almost all eigenvals of A keeping it as sparse matrix"
   ]
  },
  {
   "cell_type": "code",
   "execution_count": 102,
   "metadata": {},
   "outputs": [
    {
     "name": "stdout",
     "output_type": "stream",
     "text": [
      "CPU times: user 13.8 s, sys: 20 ms, total: 13.8 s\n",
      "Wall time: 13.6 s\n"
     ]
    }
   ],
   "source": [
    "%%time\n",
    "#with svd (hermitian) N=39 needs 6.6sec, N=55 needs 12sec  ,N=99 needs \n",
    "N=55                 #39 candidate[4],   55 candidate[7],  99 candidate[19]\n",
    "k=2*int(ceil(log2(N)))\n",
    "new_S3=[entanglement_entropy_sparse(create_W(k,Y,N,[i for i in range(k)])) for Y in range(2,N) if(GCD(Y,N)==1)]"
   ]
  },
  {
   "cell_type": "markdown",
   "metadata": {},
   "source": [
    "almost all singval of W keeping it as sparse matrix"
   ]
  },
  {
   "cell_type": "code",
   "execution_count": 103,
   "metadata": {},
   "outputs": [
    {
     "name": "stdout",
     "output_type": "stream",
     "text": [
      "CPU times: user 11.9 s, sys: 291 ms, total: 12.1 s\n",
      "Wall time: 7.79 s\n"
     ]
    }
   ],
   "source": [
    "%%time\n",
    "#with svd (hermitian) N=39 needs 6.7sec, N=55 needs 12sec  ,N=99 needs \n",
    "N=39                 #39 candidate[4],   55 candidate[7],  99 candidate[19]\n",
    "k=2*int(ceil(math.log2(N)))\n",
    "new_S4=[entanglement_entropy_svd_sparse(create_W(k,Y,N,[i for i in range(k)])) for Y in range(2,N) if(GCD(Y,N)==1)]"
   ]
  },
  {
   "cell_type": "code",
   "execution_count": 104,
   "metadata": {},
   "outputs": [],
   "source": [
    "import pickle\n",
    "\n",
    "with open(\"heatmap.txt\", \"rb\") as fp:\n",
    "    newdata = pickle.load(fp)\n",
    "\n",
    "old_S=[i[2] for i in newdata[4]]"
   ]
  },
  {
   "cell_type": "code",
   "execution_count": 107,
   "metadata": {},
   "outputs": [
    {
     "name": "stdout",
     "output_type": "stream",
     "text": [
      "2.477511997076467e-16 2.477511997076467e-16 1.7268314379490548 6.217248937900877e-15\n"
     ]
    }
   ],
   "source": [
    "relative_error1=[abs(i-j)/i for i,j in zip(old_S,new_S1) if i>0]\n",
    "relative_error2=[abs(i-j)/i for i,j in zip(old_S,new_S2) if i>0]\n",
    "relative_error3=[abs(i-j)/i for i,j in zip(old_S,new_S3) if i>0]\n",
    "relative_error4=[abs(i-j)/i for i,j in zip(old_S,new_S4) if i>0]\n",
    "\n",
    "print(max(relative_error1),max(relative_error2),max(relative_error3),max(relative_error4))\n",
    "#print([ (i,j) for i,j in zip(old_S,relative_error) if i>0])"
   ]
  },
  {
   "cell_type": "markdown",
   "metadata": {},
   "source": [
    "test for separable states"
   ]
  },
  {
   "cell_type": "code",
   "execution_count": 12,
   "metadata": {},
   "outputs": [
    {
     "name": "stdout",
     "output_type": "stream",
     "text": [
      "0.0\n"
     ]
    }
   ],
   "source": [
    "ps=np.zeros(2**7)\n",
    "ps=(sparsemat(ps).T).tocsc()\n",
    "res=0\n",
    "for j in range(2**7):    \n",
    "    ps[j]=1    \n",
    "    for i in range(int(ceil(log2(shape(ps)[0])))):\n",
    "        test_W=create_W_slow(ps,[i])\n",
    "        res+=entanglement_entropy(test_W)\n",
    "    ps[j]=0\n",
    "    \n",
    "print(res)"
   ]
  },
  {
   "cell_type": "code",
   "execution_count": 23,
   "metadata": {},
   "outputs": [
    {
     "data": {
      "text/plain": [
       "3.0"
      ]
     },
     "execution_count": 23,
     "metadata": {},
     "output_type": "execute_result"
    }
   ],
   "source": [
    "np.median([2,2,4,4])"
   ]
  },
  {
   "cell_type": "code",
   "execution_count": null,
   "metadata": {},
   "outputs": [],
   "source": []
  }
 ],
 "metadata": {
  "kernelspec": {
   "display_name": "Python 3",
   "language": "python",
   "name": "python3"
  },
  "language_info": {
   "codemirror_mode": {
    "name": "ipython",
    "version": 3
   },
   "file_extension": ".py",
   "mimetype": "text/x-python",
   "name": "python",
   "nbconvert_exporter": "python",
   "pygments_lexer": "ipython3",
   "version": "3.7.4"
  }
 },
 "nbformat": 4,
 "nbformat_minor": 2
}
